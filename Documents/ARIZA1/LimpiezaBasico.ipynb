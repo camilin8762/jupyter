{
 "cells": [
  {
   "cell_type": "code",
   "execution_count": 9,
   "metadata": {},
   "outputs": [],
   "source": [
    "import pandas as pd\n",
    "import numpy as np\n",
    "import matplotlib.pyplot as plt"
   ]
  },
  {
   "cell_type": "code",
   "execution_count": 10,
   "metadata": {},
   "outputs": [
    {
     "name": "stdout",
     "output_type": "stream",
     "text": [
      "      Name Last Name Member         City Code  Amount\n",
      "0      Jim       Doe     No         Ohio   JD    8075\n",
      "1     Gill  McGinnis    Yes        Texas   GM    9119\n",
      "2      Joe    Repici    Yes       Bostan   JR    8075\n",
      "3  Stephen     Tyler     No           LA   ST   91234\n",
      "4    Oscar  Blankman     No          NYC   OB     298\n",
      "5    Kelly       Jet     No  Desert City   KJ     123\n"
     ]
    }
   ],
   "source": [
    "# assigning url to a variable\n",
    "url=\"https://raw.githubusercontent.com/Tanishqa-10/AskPython/main/Sampledata.csv\"\n",
    " \n",
    "# passing parameter to the function\n",
    "x =pd.read_csv(url)\n",
    "print(x)"
   ]
  },
  {
   "cell_type": "markdown",
   "metadata": {},
   "source": [
    "# Problemas Comunes Presentes en el dataset:\n",
    "* Valores faltantes (None en \"Nombre\" y \"Promedio\").\n",
    "* Duplicados (Ana aparece dos veces).\n",
    "* Outlier en \"Edad\" (120 años).\n",
    "* Inconsistencias en \"Activo\" (Sí/No podría ser True/False).\n",
    "* Fechas como strings (deberían ser datetime)."
   ]
  },
  {
   "cell_type": "code",
   "execution_count": 12,
   "metadata": {},
   "outputs": [
    {
     "ename": "SyntaxError",
     "evalue": "incomplete input (2166765348.py, line 3)",
     "output_type": "error",
     "traceback": [
      "\u001b[1;36m  Cell \u001b[1;32mIn[12], line 3\u001b[1;36m\u001b[0m\n\u001b[1;33m    \"Nombre\": [\"Ana\", \"Luis\", \"Carlos\", \"María\",\u001b[0m\n\u001b[1;37m                                                 ^\u001b[0m\n\u001b[1;31mSyntaxError\u001b[0m\u001b[1;31m:\u001b[0m incomplete input\n"
     ]
    }
   ],
   "source": [
    "data = {\n",
    "    \"ID\": [1, 2, 3, 4, 5, 6, 7, 8, 9, 10],\n",
    "    \"Nombre\": [\"Ana\", \"Luis\", \"Carlos\", \"María\", "
   ]
  },
  {
   "cell_type": "code",
   "execution_count": null,
   "metadata": {},
   "outputs": [],
   "source": [
    "None"
   ]
  },
  {
   "cell_type": "code",
   "execution_count": null,
   "metadata": {},
   "outputs": [],
   "source": [
    ", \"Pedro\", \"Ana\", \"Lucía\", \"Juan\", \"Sofía\"],\n",
    "    \"Edad\": [20, 22, 19, 21, 23, 120, 20, 22, 19, 21],  # Outlier en edad (120)\n",
    "    \"Carrera\": [\"Ingeniería\", \"Medicina\", \"Derecho\", \"Arquitectura\", \"Economía\", \"Arte\", \"Ingeniería\", \"Psicología\", \"Derecho\", \"Arte\"],\n",
    "    \"Promedio\": [8.5, 9.1, 7.8, 8.9, None, 6.5, 8.5, 9.2, 7.8, 7.0],  # Valor faltante\n",
    "    \"Fecha_Ingreso\": [\"2020-01-15\", \"2019-08-20\", \"2021-03-10\", \"2020-05-12\", \"2021-11-05\", \"2019-07-22\", \"2020-01-15\", \"2021-02-28\", \"2020-09-17\", \"2019-06-10\"],\n",
    "    \"Activo\": [\"Sí\", \"No\", \"Sí\", \"Sí\", \"No\", \"Sí\", \"Sí\", \"No\", \"Sí\", \"No\"]\n",
    "}\n",
    "\n",
    "df = pd.DataFrame(data)\n",
    "print(\"Dataset Original:\")\n",
    "print(df)"
   ]
  },
  {
   "cell_type": "markdown",
   "metadata": {},
   "source": [
    "# PROBLEMAS IDENTIFICADOS\n",
    "## Valores Faltantes"
   ]
  },
  {
   "cell_type": "code",
   "execution_count": null,
   "metadata": {},
   "outputs": [],
   "source": [
    "#Identify rows with NaN \n",
    "valuesrows_with_nan = df[df.isnull().any(axis=1)] \n",
    "valuesrows_with_nan \n",
    "#View the rows with NaN valuesprint(rows_with_nan)"
   ]
  },
  {
   "cell_type": "code",
   "execution_count": null,
   "metadata": {},
   "outputs": [],
   "source": [
    "print(\"\\nValores faltantes por columna:\")\n",
    "print(df.isnull().sum())"
   ]
  },
  {
   "cell_type": "markdown",
   "metadata": {},
   "source": [
    "# Duplicados"
   ]
  },
  {
   "cell_type": "code",
   "execution_count": null,
   "metadata": {},
   "outputs": [],
   "source": [
    "print(\"\\nFilas duplicadas:\")\n",
    "print(data.duplicated().sum()) \n"
   ]
  },
  {
   "cell_type": "markdown",
   "metadata": {},
   "source": [
    "# Outliers"
   ]
  },
  {
   "cell_type": "code",
   "execution_count": null,
   "metadata": {},
   "outputs": [],
   "source": [
    "plt.boxplot(df[\"Edad\"].dropna())\n",
    "plt.title(\"Boxplot de Edad (para detectar outliers)\")\n",
    "plt.show()"
   ]
  },
  {
   "cell_type": "markdown",
   "metadata": {},
   "source": [
    "# LIMPIEZA DE DATOS\n",
    "## Valores Faltantes"
   ]
  },
  {
   "cell_type": "code",
   "execution_count": null,
   "metadata": {},
   "outputs": [],
   "source": [
    "# Eliminar filas con \"Nombre\" faltante (si es clave)\n",
    "df = df.dropna(subset=[\"Nombre\"])\n",
    "\n",
    "print(\"\\nDataset después de manejar duplicados:\")\n",
    "print(df)"
   ]
  },
  {
   "cell_type": "code",
   "execution_count": null,
   "metadata": {},
   "outputs": [],
   "source": [
    "# Imputar promedio faltante con la mediana\n",
    "mediana_promedio = df[\"Promedio\"].median()\n",
    "df[\"Promedio\"] = df[\"Promedio\"].fillna(mediana_promedio)\n",
    "\n",
    "print(\"\\nDataset después de manejar faltantes:\")\n",
    "print(df)"
   ]
  },
  {
   "cell_type": "markdown",
   "metadata": {},
   "source": [
    "## Eliminar Duplicados"
   ]
  },
  {
   "cell_type": "code",
   "execution_count": null,
   "metadata": {},
   "outputs": [],
   "source": [
    "df = df.drop_duplicates(subset=[\"Nombre\"], keep=\"first\")  # Conserva la primera aparición\n",
    "print(\"\\nDataset sin duplicados en 'Nombre':\")\n",
    "print(df)"
   ]
  },
  {
   "cell_type": "markdown",
   "metadata": {},
   "source": [
    "# Corregir Outliers"
   ]
  },
  {
   "cell_type": "code",
   "execution_count": null,
   "metadata": {},
   "outputs": [],
   "source": [
    "# Reemplazar edad incorrecta (120) con la mediana\n",
    "mediana_edad = df[\"Edad\"].median()\n",
    "df.loc[df[\"Edad\"] > 100, \"Edad\"] = mediana_edad\n",
    "\n",
    "print(\"\\nDataset después de corregir outliers:\")\n",
    "print(df)"
   ]
  },
  {
   "cell_type": "markdown",
   "metadata": {},
   "source": [
    "# Estandarizar Formatos"
   ]
  },
  {
   "cell_type": "code",
   "execution_count": null,
   "metadata": {},
   "outputs": [],
   "source": [
    "# Convertir \"Activo\" a booleano\n",
    "df[\"Activo\"] = df[\"Activo\"].map({\"Sí\": True, \"No\": False})\n",
    "\n",
    "# Convertir \"Fecha_Ingreso\" a datetime\n",
    "df[\"Fecha_Ingreso\"] = pd.to_datetime(df[\"Fecha_Ingreso\"])\n",
    "\n",
    "print(\"\\nDataset con formatos corregidos:\")\n",
    "print(df)"
   ]
  },
  {
   "cell_type": "markdown",
   "metadata": {},
   "source": [
    "# VALIDACION FINAL\n",
    "## Verificación de Datos Limpios"
   ]
  },
  {
   "cell_type": "code",
   "execution_count": null,
   "metadata": {},
   "outputs": [],
   "source": [
    "print(\"\\nResumen final del dataset limpio:\")\n",
    "print(df.info())\n",
    "print(\"\\nEstadísticas descriptivas:\")\n",
    "print(df.describe())"
   ]
  },
  {
   "cell_type": "code",
   "execution_count": null,
   "metadata": {},
   "outputs": [],
   "source": [
    "#df.to_csv(\"estudiantes_limpio.csv\", index=False)\n",
    "#print(\"¡Dataset exportado correctamente!\")"
   ]
  }
 ],
 "metadata": {
  "kernelspec": {
   "display_name": "Python [conda env:base] *",
   "language": "python",
   "name": "conda-base-py"
  },
  "language_info": {
   "codemirror_mode": {
    "name": "ipython",
    "version": 3
   },
   "file_extension": ".py",
   "mimetype": "text/x-python",
   "name": "python",
   "nbconvert_exporter": "python",
   "pygments_lexer": "ipython3",
   "version": "3.12.7"
  }
 },
 "nbformat": 4,
 "nbformat_minor": 4
}
