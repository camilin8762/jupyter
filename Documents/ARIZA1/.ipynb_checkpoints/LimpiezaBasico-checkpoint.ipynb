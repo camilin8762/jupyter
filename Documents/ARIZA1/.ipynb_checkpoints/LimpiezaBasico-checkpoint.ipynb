{
 "cells": [
  {
   "cell_type": "code",
   "execution_count": 94,
   "metadata": {},
   "outputs": [],
   "source": [
    "import pandas as pd\n",
    "import numpy as np\n",
    "import matplotlib.pyplot as plt"
   ]
  },
  {
   "cell_type": "code",
   "execution_count": 71,
   "metadata": {},
   "outputs": [
    {
     "name": "stdout",
     "output_type": "stream",
     "text": [
      "      Name Last Name Member         City Code  Amount\n",
      "0      Jim       Doe     No         Ohio   JD    8075\n",
      "1     Gill  McGinnis    Yes        Texas   GM    9119\n",
      "2      Joe    Repici    Yes       Bostan   JR    8075\n",
      "3  Stephen     Tyler     No           LA   ST   91234\n",
      "4    Oscar  Blankman     No          NYC   OB     298\n",
      "5    Kelly       Jet     No  Desert City   KJ     123\n"
     ]
    }
   ],
   "source": [
    "# assigning url to a variable\n",
    "url=\"https://raw.githubusercontent.com/Tanishqa-10/AskPython/main/Sampledata.csv\"\n",
    " \n",
    "# passing parameter to the function\n",
    "x =pd.read_csv(url)\n",
    "print(x)"
   ]
  },
  {
   "cell_type": "markdown",
   "metadata": {},
   "source": [
    "# Problemas Comunes Presentes en el dataset:\n",
    "* Valores faltantes (None en \"Nombre\" y \"Promedio\").\n",
    "* Duplicados (Ana aparece dos veces).\n",
    "* Outlier en \"Edad\" (120 años).\n",
    "* Inconsistencias en \"Activo\" (Sí/No podría ser True/False).\n",
    "* Fechas como strings (deberían ser datetime)."
   ]
  },
  {
   "cell_type": "code",
   "execution_count": 95,
   "metadata": {},
   "outputs": [],
   "source": [
    "data = {\n",
    "    \"ID\": [1, 2, 3, 4, 5, 6, 7, 8, 9, 10],\n",
    "    \"Nombre\": [\"Ana\", \"Luis\", \"Carlos\", \"María\", "
   ]
  },
  {
   "cell_type": "code",
   "execution_count": 95,
   "metadata": {},
   "outputs": [],
   "source": [
    "None"
   ]
  },
  {
   "cell_type": "code",
   "execution_count": 95,
   "metadata": {},
   "outputs": [
    {
     "name": "stdout",
     "output_type": "stream",
     "text": [
      "Dataset Original:\n",
      "   ID  Nombre  Edad       Carrera  Promedio Fecha_Ingreso Activo\n",
      "0   1     Ana    20    Ingeniería       8.5    2020-01-15     Sí\n",
      "1   2    Luis    22      Medicina       9.1    2019-08-20     No\n",
      "2   3  Carlos    19       Derecho       7.8    2021-03-10     Sí\n",
      "3   4   María    21  Arquitectura       8.9    2020-05-12     Sí\n",
      "4   5    None    23      Economía       NaN    2021-11-05     No\n",
      "5   6   Pedro   120          Arte       6.5    2019-07-22     Sí\n",
      "6   7     Ana    20    Ingeniería       8.5    2020-01-15     Sí\n",
      "7   8   Lucía    22    Psicología       9.2    2021-02-28     No\n",
      "8   9    Juan    19       Derecho       7.8    2020-09-17     Sí\n",
      "9  10   Sofía    21          Arte       7.0    2019-06-10     No\n"
     ]
    }
   ],
   "source": [
    ", \"Pedro\", \"Ana\", \"Lucía\", \"Juan\", \"Sofía\"],\n",
    "    \"Edad\": [20, 22, 19, 21, 23, 120, 20, 22, 19, 21],  # Outlier en edad (120)\n",
    "    \"Carrera\": [\"Ingeniería\", \"Medicina\", \"Derecho\", \"Arquitectura\", \"Economía\", \"Arte\", \"Ingeniería\", \"Psicología\", \"Derecho\", \"Arte\"],\n",
    "    \"Promedio\": [8.5, 9.1, 7.8, 8.9, None, 6.5, 8.5, 9.2, 7.8, 7.0],  # Valor faltante\n",
    "    \"Fecha_Ingreso\": [\"2020-01-15\", \"2019-08-20\", \"2021-03-10\", \"2020-05-12\", \"2021-11-05\", \"2019-07-22\", \"2020-01-15\", \"2021-02-28\", \"2020-09-17\", \"2019-06-10\"],\n",
    "    \"Activo\": [\"Sí\", \"No\", \"Sí\", \"Sí\", \"No\", \"Sí\", \"Sí\", \"No\", \"Sí\", \"No\"]\n",
    "}\n",
    "\n",
    "df = pd.DataFrame(data)\n",
    "print(\"Dataset Original:\")\n",
    "print(df)"
   ]
  },
  {
   "cell_type": "markdown",
   "metadata": {},
   "source": [
    "# PROBLEMAS IDENTIFICADOS\n",
    "## Valores Faltantes"
   ]
  },
  {
   "cell_type": "code",
   "execution_count": 96,
   "metadata": {},
   "outputs": [
    {
     "data": {
      "text/html": [
       "<div>\n",
       "<style scoped>\n",
       "    .dataframe tbody tr th:only-of-type {\n",
       "        vertical-align: middle;\n",
       "    }\n",
       "\n",
       "    .dataframe tbody tr th {\n",
       "        vertical-align: top;\n",
       "    }\n",
       "\n",
       "    .dataframe thead th {\n",
       "        text-align: right;\n",
       "    }\n",
       "</style>\n",
       "<table border=\"1\" class=\"dataframe\">\n",
       "  <thead>\n",
       "    <tr style=\"text-align: right;\">\n",
       "      <th></th>\n",
       "      <th>ID</th>\n",
       "      <th>Nombre</th>\n",
       "      <th>Edad</th>\n",
       "      <th>Carrera</th>\n",
       "      <th>Promedio</th>\n",
       "      <th>Fecha_Ingreso</th>\n",
       "      <th>Activo</th>\n",
       "    </tr>\n",
       "  </thead>\n",
       "  <tbody>\n",
       "    <tr>\n",
       "      <th>4</th>\n",
       "      <td>5</td>\n",
       "      <td>None</td>\n",
       "      <td>23</td>\n",
       "      <td>Economía</td>\n",
       "      <td>NaN</td>\n",
       "      <td>2021-11-05</td>\n",
       "      <td>No</td>\n",
       "    </tr>\n",
       "  </tbody>\n",
       "</table>\n",
       "</div>"
      ],
      "text/plain": [
       "   ID Nombre  Edad   Carrera  Promedio Fecha_Ingreso Activo\n",
       "4   5   None    23  Economía       NaN    2021-11-05     No"
      ]
     },
     "execution_count": 96,
     "metadata": {},
     "output_type": "execute_result"
    }
   ],
   "source": [
    "#Identify rows with NaN \n",
    "valuesrows_with_nan = df[df.isnull().any(axis=1)] \n",
    "valuesrows_with_nan \n",
    "#View the rows with NaN valuesprint(rows_with_nan)"
   ]
  },
  {
   "cell_type": "code",
   "execution_count": 97,
   "metadata": {},
   "outputs": [
    {
     "name": "stdout",
     "output_type": "stream",
     "text": [
      "\n",
      "Valores faltantes por columna:\n",
      "ID               0\n",
      "Nombre           1\n",
      "Edad             0\n",
      "Carrera          0\n",
      "Promedio         1\n",
      "Fecha_Ingreso    0\n",
      "Activo           0\n",
      "dtype: int64\n"
     ]
    }
   ],
   "source": [
    "print(\"\\nValores faltantes por columna:\")\n",
    "print(df.isnull().sum())"
   ]
  },
  {
   "cell_type": "markdown",
   "metadata": {},
   "source": [
    "# Duplicados"
   ]
  },
  {
   "cell_type": "code",
   "execution_count": 98,
   "metadata": {},
   "outputs": [
    {
     "name": "stdout",
     "output_type": "stream",
     "text": [
      "\n",
      "Filas duplicadas:\n",
      "0\n",
      "\n",
      "Duplicados en columna 'Nombre':\n",
      "   ID Nombre  Edad     Carrera  Promedio Fecha_Ingreso Activo\n",
      "0   1    Ana    20  Ingeniería       8.5    2020-01-15     Sí\n",
      "6   7    Ana    20  Ingeniería       8.5    2020-01-15     Sí\n"
     ]
    }
   ],
   "source": [
    "print(\"\\nFilas duplicadas:\")\n",
    "print(df.duplicated().sum())  # Verifica duplicados exactos\n",
    "print(\"\\nDuplicados en columna 'Nombre':\")\n",
    "print(df[df.duplicated(subset=[\"Nombre\"], keep=False)])  # Muestra duplicados en \"Nombre\""
   ]
  },
  {
   "cell_type": "markdown",
   "metadata": {},
   "source": [
    "# Outliers"
   ]
  },
  {
   "cell_type": "code",
   "execution_count": 75,
   "metadata": {},
   "outputs": [
    {
     "data": {
      "image/png": "[encoded data removed]",
      "text/plain": [
       "<Figure size 432x288 with 1 Axes>"
      ]
     },
     "metadata": {
      "needs_background": "light"
     },
     "output_type": "display_data"
    }
   ],
   "source": [
    "plt.boxplot(df[\"Edad\"].dropna())\n",
    "plt.title(\"Boxplot de Edad (para detectar outliers)\")\n",
    "plt.show()"
   ]
  },
  {
   "cell_type": "markdown",
   "metadata": {},
   "source": [
    "# LIMPIEZA DE DATOS\n",
    "## Valores Faltantes"
   ]
  },
  {
   "cell_type": "code",
   "execution_count": 99,
   "metadata": {},
   "outputs": [
    {
     "name": "stdout",
     "output_type": "stream",
     "text": [
      "\n",
      "Dataset después de manejar duplicados:\n",
      "   ID  Nombre  Edad       Carrera  Promedio Fecha_Ingreso Activo\n",
      "0   1     Ana    20    Ingeniería       8.5    2020-01-15     Sí\n",
      "1   2    Luis    22      Medicina       9.1    2019-08-20     No\n",
      "2   3  Carlos    19       Derecho       7.8    2021-03-10     Sí\n",
      "3   4   María    21  Arquitectura       8.9    2020-05-12     Sí\n",
      "5   6   Pedro   120          Arte       6.5    2019-07-22     Sí\n",
      "6   7     Ana    20    Ingeniería       8.5    2020-01-15     Sí\n",
      "7   8   Lucía    22    Psicología       9.2    2021-02-28     No\n",
      "8   9    Juan    19       Derecho       7.8    2020-09-17     Sí\n",
      "9  10   Sofía    21          Arte       7.0    2019-06-10     No\n"
     ]
    }
   ],
   "source": [
    "# Eliminar filas con \"Nombre\" faltante (si es clave)\n",
    "df = df.dropna(subset=[\"Nombre\"])\n",
    "\n",
    "print(\"\\nDataset después de manejar duplicados:\")\n",
    "print(df)"
   ]
  },
  {
   "cell_type": "code",
   "execution_count": 100,
   "metadata": {},
   "outputs": [
    {
     "name": "stdout",
     "output_type": "stream",
     "text": [
      "\n",
      "Dataset después de manejar faltantes:\n",
      "   ID  Nombre  Edad       Carrera  Promedio Fecha_Ingreso Activo\n",
      "0   1     Ana    20    Ingeniería       8.5    2020-01-15     Sí\n",
      "1   2    Luis    22      Medicina       9.1    2019-08-20     No\n",
      "2   3  Carlos    19       Derecho       7.8    2021-03-10     Sí\n",
      "3   4   María    21  Arquitectura       8.9    2020-05-12     Sí\n",
      "5   6   Pedro   120          Arte       6.5    2019-07-22     Sí\n",
      "6   7     Ana    20    Ingeniería       8.5    2020-01-15     Sí\n",
      "7   8   Lucía    22    Psicología       9.2    2021-02-28     No\n",
      "8   9    Juan    19       Derecho       7.8    2020-09-17     Sí\n",
      "9  10   Sofía    21          Arte       7.0    2019-06-10     No\n"
     ]
    }
   ],
   "source": [
    "# Imputar promedio faltante con la mediana\n",
    "mediana_promedio = df[\"Promedio\"].median()\n",
    "df[\"Promedio\"] = df[\"Promedio\"].fillna(mediana_promedio)\n",
    "\n",
    "print(\"\\nDataset después de manejar faltantes:\")\n",
    "print(df)"
   ]
  },
  {
   "cell_type": "markdown",
   "metadata": {},
   "source": [
    "## Eliminar Duplicados"
   ]
  },
  {
   "cell_type": "code",
   "execution_count": 101,
   "metadata": {},
   "outputs": [
    {
     "name": "stdout",
     "output_type": "stream",
     "text": [
      "\n",
      "Dataset sin duplicados en 'Nombre':\n",
      "   ID  Nombre  Edad       Carrera  Promedio Fecha_Ingreso Activo\n",
      "0   1     Ana    20    Ingeniería       8.5    2020-01-15     Sí\n",
      "1   2    Luis    22      Medicina       9.1    2019-08-20     No\n",
      "2   3  Carlos    19       Derecho       7.8    2021-03-10     Sí\n",
      "3   4   María    21  Arquitectura       8.9    2020-05-12     Sí\n",
      "5   6   Pedro   120          Arte       6.5    2019-07-22     Sí\n",
      "7   8   Lucía    22    Psicología       9.2    2021-02-28     No\n",
      "8   9    Juan    19       Derecho       7.8    2020-09-17     Sí\n",
      "9  10   Sofía    21          Arte       7.0    2019-06-10     No\n"
     ]
    }
   ],
   "source": [
    "df = df.drop_duplicates(subset=[\"Nombre\"], keep=\"first\")  # Conserva la primera aparición\n",
    "print(\"\\nDataset sin duplicados en 'Nombre':\")\n",
    "print(df)"
   ]
  },
  {
   "cell_type": "markdown",
   "metadata": {},
   "source": [
    "# Corregir Outliers"
   ]
  },
  {
   "cell_type": "code",
   "execution_count": 102,
   "metadata": {},
   "outputs": [
    {
     "name": "stdout",
     "output_type": "stream",
     "text": [
      "\n",
      "Dataset después de corregir outliers:\n",
      "   ID  Nombre  Edad       Carrera  Promedio Fecha_Ingreso Activo\n",
      "0   1     Ana    20    Ingeniería       8.5    2020-01-15     Sí\n",
      "1   2    Luis    22      Medicina       9.1    2019-08-20     No\n",
      "2   3  Carlos    19       Derecho       7.8    2021-03-10     Sí\n",
      "3   4   María    21  Arquitectura       8.9    2020-05-12     Sí\n",
      "5   6   Pedro    21          Arte       6.5    2019-07-22     Sí\n",
      "7   8   Lucía    22    Psicología       9.2    2021-02-28     No\n",
      "8   9    Juan    19       Derecho       7.8    2020-09-17     Sí\n",
      "9  10   Sofía    21          Arte       7.0    2019-06-10     No\n"
     ]
    }
   ],
   "source": [
    "# Reemplazar edad incorrecta (120) con la mediana\n",
    "mediana_edad = df[\"Edad\"].median()\n",
    "df.loc[df[\"Edad\"] > 100, \"Edad\"] = mediana_edad\n",
    "\n",
    "print(\"\\nDataset después de corregir outliers:\")\n",
    "print(df)"
   ]
  },
  {
   "cell_type": "markdown",
   "metadata": {},
   "source": [
    "# Estandarizar Formatos"
   ]
  },
  {
   "cell_type": "code",
   "execution_count": 103,
   "metadata": {},
   "outputs": [
    {
     "name": "stdout",
     "output_type": "stream",
     "text": [
      "\n",
      "Dataset con formatos corregidos:\n",
      "   ID  Nombre  Edad       Carrera  Promedio Fecha_Ingreso  Activo\n",
      "0   1     Ana    20    Ingeniería       8.5    2020-01-15    True\n",
      "1   2    Luis    22      Medicina       9.1    2019-08-20   False\n",
      "2   3  Carlos    19       Derecho       7.8    2021-03-10    True\n",
      "3   4   María    21  Arquitectura       8.9    2020-05-12    True\n",
      "5   6   Pedro    21          Arte       6.5    2019-07-22    True\n",
      "7   8   Lucía    22    Psicología       9.2    2021-02-28   False\n",
      "8   9    Juan    19       Derecho       7.8    2020-09-17    True\n",
      "9  10   Sofía    21          Arte       7.0    2019-06-10   False\n"
     ]
    }
   ],
   "source": [
    "# Convertir \"Activo\" a booleano\n",
    "df[\"Activo\"] = df[\"Activo\"].map({\"Sí\": True, \"No\": False})\n",
    "\n",
    "# Convertir \"Fecha_Ingreso\" a datetime\n",
    "df[\"Fecha_Ingreso\"] = pd.to_datetime(df[\"Fecha_Ingreso\"])\n",
    "\n",
    "print(\"\\nDataset con formatos corregidos:\")\n",
    "print(df)"
   ]
  },
  {
   "cell_type": "markdown",
   "metadata": {},
   "source": [
    "# VALIDACION FINAL\n",
    "## Verificación de Datos Limpios"
   ]
  },
  {
   "cell_type": "code",
   "execution_count": 104,
   "metadata": {},
   "outputs": [
    {
     "name": "stdout",
     "output_type": "stream",
     "text": [
      "\n",
      "Resumen final del dataset limpio:\n",
      "<class 'pandas.core.frame.DataFrame'>\n",
      "Int64Index: 8 entries, 0 to 9\n",
      "Data columns (total 7 columns):\n",
      " #   Column         Non-Null Count  Dtype         \n",
      "---  ------         --------------  -----         \n",
      " 0   ID             8 non-null      int64         \n",
      " 1   Nombre         8 non-null      object        \n",
      " 2   Edad           8 non-null      int64         \n",
      " 3   Carrera        8 non-null      object        \n",
      " 4   Promedio       8 non-null      float64       \n",
      " 5   Fecha_Ingreso  8 non-null      datetime64[ns]\n",
      " 6   Activo         8 non-null      bool          \n",
      "dtypes: bool(1), datetime64[ns](1), float64(1), int64(2), object(2)\n",
      "memory usage: 456.0+ bytes\n",
      "None\n",
      "\n",
      "Estadísticas descriptivas:\n",
      "              ID       Edad  Promedio\n",
      "count   8.000000   8.000000  8.000000\n",
      "mean    5.375000  20.625000  8.100000\n",
      "std     3.377975   1.187735  0.997139\n",
      "min     1.000000  19.000000  6.500000\n",
      "25%     2.750000  19.750000  7.600000\n",
      "50%     5.000000  21.000000  8.150000\n",
      "75%     8.250000  21.250000  8.950000\n",
      "max    10.000000  22.000000  9.200000\n"
     ]
    }
   ],
   "source": [
    "print(\"\\nResumen final del dataset limpio:\")\n",
    "print(df.info())\n",
    "print(\"\\nEstadísticas descriptivas:\")\n",
    "print(df.describe())"
   ]
  },
  {
   "cell_type": "code",
   "execution_count": 81,
   "metadata": {},
   "outputs": [],
   "source": [
    "#df.to_csv(\"estudiantes_limpio.csv\", index=False)\n",
    "#print(\"¡Dataset exportado correctamente!\")"
   ]
  }
 ],
 "metadata": {
  "kernelspec": {
   "display_name": "Python 3",
   "language": "python",
   "name": "python3"
  },
  "language_info": {
   "codemirror_mode": {
    "name": "ipython",
    "version": 3
   },
   "file_extension": ".py",
   "mimetype": "text/x-python",
   "name": "python",
   "nbconvert_exporter": "python",
   "pygments_lexer": "ipython3",
   "version": "3.8.5"
  }
 },
 "nbformat": 4,
 "nbformat_minor": 4
}
