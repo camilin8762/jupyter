{
 "cells": [
  {
   "cell_type": "raw",
   "id": "6a0e293b-3b53-4441-9860-f594a0b2e543",
   "metadata": {},
   "source": [
    "JIMAR CAMILO ARIZA BARRIOS"
   ]
  },
  {
   "cell_type": "raw",
   "id": "f3a0c4b0-61f3-4880-82ca-696728a7ccc3",
   "metadata": {},
   "source": [
    " MI CONOCIMIENTO DE PYTHON\n",
    "\n",
    "Voy a presentar de manera cronologica todos los conocimietnos que he adquirido sobre el uso del leguaje de programacion python"
   ]
  },
  {
   "cell_type": "raw",
   "id": "e9132baf-372b-4bd4-9ac2-f1caa17fed4b",
   "metadata": {},
   "source": [
    "1.ENTRADAS Y SALIDAS"
   ]
  },
  {
   "cell_type": "raw",
   "id": "25657335-a73c-4860-af23-3825fb2de32f",
   "metadata": {},
   "source": [
    " 1.1 ENTRADAS\n",
    "     las entradas es la manera en como podemos interactuar con el codigo \n",
    "     introduciendo informacion ,calsificandose en tipos de datos\n",
    "     ejeplo de ello: "
   ]
  },
  {
   "cell_type": "code",
   "execution_count": 7,
   "id": "b6648ed7-546a-4469-a342-d2ef4d53bb0c",
   "metadata": {},
   "outputs": [
    {
     "name": "stdin",
     "output_type": "stream",
     "text": [
      " 7\n"
     ]
    }
   ],
   "source": [
    "n=int(input())"
   ]
  },
  {
   "cell_type": "raw",
   "id": "49045574-0c1e-47f6-9623-b2cdc17370c6",
   "metadata": {},
   "source": [
    " 1.2 SALIDAS\n",
    "    las salidas es toda aquella informacion que entre nuestro condigo una vez finalizado su ejecucion\n",
    "    ejemplo de ello :"
   ]
  },
  {
   "cell_type": "code",
   "execution_count": 9,
   "id": "798e5775-161a-46c7-897c-1dfa7adaf0df",
   "metadata": {},
   "outputs": [
    {
     "name": "stdout",
     "output_type": "stream",
     "text": [
      "7\n"
     ]
    }
   ],
   "source": [
    "print(n)"
   ]
  },
  {
   "cell_type": "raw",
   "id": "da0a7c9c-bd3a-467f-8b6a-83ddd38b1216",
   "metadata": {},
   "source": [
    "2. VARIABLES Y CONSTANTES"
   ]
  },
  {
   "cell_type": "raw",
   "id": "302743ae-59fb-4287-8701-2273e51c6dba",
   "metadata": {},
   "source": [
    " 2.1 VARIABLES\n",
    "    son aquellas  que se les asigna(x=) un valor que cambia constante mente en nuetro codigo con forme abanza\n",
    "    ejemplo :"
   ]
  },
  {
   "cell_type": "code",
   "execution_count": 13,
   "id": "cc51745d-b214-4bdd-a9ed-eb97bfae6198",
   "metadata": {
    "scrolled": true
   },
   "outputs": [
    {
     "name": "stdout",
     "output_type": "stream",
     "text": [
      "1\n"
     ]
    }
   ],
   "source": [
    "num=7\n",
    "sum=0\n",
    "for i in range(1,num):        \n",
    "    if num%i==0:\n",
    "        sum+=i\n",
    "print(sum)"
   ]
  },
  {
   "cell_type": "raw",
   "id": "4e53593e-5a28-4b63-b33b-c9287e7470f6",
   "metadata": {},
   "source": [
    "  2.2 CONSTANTES"
   ]
  },
  {
   "cell_type": "raw",
   "id": "0df827f2-4853-4683-a3fd-711fa65bfd9d",
   "metadata": {},
   "source": [
    "    son aquellas que se mantienen constantes y su valor no cambia\n",
    "    ejemplo:"
   ]
  },
  {
   "cell_type": "code",
   "execution_count": 17,
   "id": "16b7a0b1-0e59-4c20-b439-3dc1a7762f92",
   "metadata": {},
   "outputs": [
    {
     "name": "stdin",
     "output_type": "stream",
     "text": [
      "introdusca el primer numero:  4\n",
      "introdusca el segundo numero:  4\n",
      "introdusca el tercer numero:  4\n"
     ]
    }
   ],
   "source": [
    "num_1 =int(input('introdusca el primer numero: '))\n",
    "num_2 =int(input('introdusca el segundo numero: '))\n",
    "num_3 =int(input('introdusca el tercer numero: '))\n"
   ]
  },
  {
   "cell_type": "raw",
   "id": "4f0f8771-29f9-4f96-8547-346194dfc42c",
   "metadata": {},
   "source": [
    "3.OPERADORES"
   ]
  },
  {
   "cell_type": "raw",
   "id": "feb67f54-00f7-45e4-8028-68b087e485aa",
   "metadata": {},
   "source": [
    "    símbolos o palabras que se utilizan para realizar operaciones con valores o variables:\n",
    "    arimeticos : +,-,*,/,%\n",
    "    relacionales : <,>,<=,<=,!=\n",
    "    logicos : AND,OR,NOT\n",
    "    asignacion : =\n",
    "    algun ejemplo es :"
   ]
  },
  {
   "cell_type": "code",
   "execution_count": 19,
   "id": "0bb1b550-39d1-4e73-b660-13908be191d6",
   "metadata": {},
   "outputs": [
    {
     "name": "stdout",
     "output_type": "stream",
     "text": [
      "\n",
      " el 7 tiene una cifra \n"
     ]
    }
   ],
   "source": [
    "if num_1>=0 and num_1<=9:\n",
    "    print(f'\\n el {num} tiene una cifra ')"
   ]
  },
  {
   "cell_type": "raw",
   "id": "00cdca3e-598b-4b80-b1a2-791313793414",
   "metadata": {},
   "source": [
    "4. CONDICIONALES"
   ]
  },
  {
   "cell_type": "raw",
   "id": "f32c8db6-4530-4645-a265-cff4ece9248a",
   "metadata": {},
   "source": [
    "para el codicional se usa el if para hacer una pregunta que puede ser verdadera o falsa ,ademas en python\n",
    "se nos ofrece una opcion mas que es el elif que es para da otra repsuesta aparte de de las dos anteriores\n",
    " ejemplo :"
   ]
  },
  {
   "cell_type": "code",
   "execution_count": 21,
   "id": "d3f261c2-0534-4ddf-a038-f209f4422002",
   "metadata": {},
   "outputs": [
    {
     "name": "stdout",
     "output_type": "stream",
     "text": [
      "\n",
      " los tres nunmeros son iguales\n"
     ]
    }
   ],
   "source": [
    "if num_1==num_2 and num_2==num_3 and num_3==num_1:\n",
    "    print ('\\n los tres nunmeros son iguales')\n",
    "elif num_1==num_2 :\n",
    "    print ('\\n hay dos numeros iguales ')\n",
    "elif num_2==num_3 :\n",
    "    print ('\\n hay dos numeros iguales ')\n",
    "elif num_3==num_1:  \n",
    "    print ('\\n hay dos numeros iguales ')\n",
    "else:\n",
    "    print ('todos los numeros son distintos')"
   ]
  },
  {
   "cell_type": "raw",
   "id": "cbc1f6fc-2ab4-4d1d-9644-31b43de41165",
   "metadata": {},
   "source": [
    "5. ESTRUCTURAS DE CONTROL CICLICO "
   ]
  },
  {
   "cell_type": "raw",
   "id": "713fc198-f092-4db2-a562-57a8717767a1",
   "metadata": {},
   "source": [
    "    5.1 FOR\n",
    "    ES UN TIPO DE ESTRUCTURA QUE TE PERMITE REALIZAR UN PROCESO EN UN RANGO ESABLECIDO Y SIN NECESIDAD \n",
    "    DE REALIZAR UN CODIGO MAS EXTENSO PERO DE MANERA RECTA\n"
   ]
  },
  {
   "cell_type": "code",
   "execution_count": 25,
   "id": "48a2291b-946a-4b74-8f9c-e4ddf44b7867",
   "metadata": {},
   "outputs": [
    {
     "name": "stdout",
     "output_type": "stream",
     "text": [
      "1\n"
     ]
    }
   ],
   "source": [
    "sum=0\n",
    "for i in range(1,num):        \n",
    "    if num%i==0:\n",
    "        sum+=i\n",
    "print(sum)"
   ]
  },
  {
   "cell_type": "raw",
   "id": "60026a8b-fdec-46e7-bf3e-91e274a03a1b",
   "metadata": {},
   "source": [
    "    5.2 WHILE\n",
    "    ES UN TIPO DE ESTRUCTURA QUE TE PERMITE REALIZAR UN PROCESO EN UN RANGO ESABLECIDO Y SIN NECESIDAD \n",
    "    DE REALIZAR UN CODIGO MAS EXTENSODE UNA MANERA UN POCO MAS FLEXIBLE"
   ]
  },
  {
   "cell_type": "code",
   "execution_count": 35,
   "id": "d94b39aa-3515-426b-a876-1205f8ac2e68",
   "metadata": {
    "scrolled": true
   },
   "outputs": [
    {
     "name": "stdin",
     "output_type": "stream",
     "text": [
      "introduzca el numero Numero:  4\n",
      "introduzca el numero Numero:  5\n",
      "introduzca el numero Numero:  6\n",
      "introduzca el numero Numero:  0\n"
     ]
    },
    {
     "name": "stdout",
     "output_type": "stream",
     "text": [
      "15\n"
     ]
    }
   ],
   "source": [
    "c=0\n",
    "num=1\n",
    "sum=0\n",
    "while num!=0:\n",
    "    if num<0:\n",
    "        break \n",
    "    else:\n",
    "        num=int(input(\"introduzca el numero Numero: \"))\n",
    "        if num<0:\n",
    "            break\n",
    "        else:\n",
    "            sum=sum+num\n",
    "            c=c+1\n",
    "print(sum)"
   ]
  },
  {
   "cell_type": "raw",
   "id": "dec741bf-de0e-4c2f-a144-f83576022779",
   "metadata": {},
   "source": [
    "6. FUNCIONES\n",
    "    Es un bloque de codigo que puede realizar procesos com alguna operacion\n",
    "    ejemplo :"
   ]
  },
  {
   "cell_type": "code",
   "execution_count": null,
   "id": "c66af53c-381b-4921-a266-1eaccc52296a",
   "metadata": {},
   "outputs": [],
   "source": [
    "def cuadratica ():\n",
    "    a = int(input('ingrese a'))\n",
    "    b = int(input('ingrese b'))\n",
    "    c = int(input('ingrese c'))\n",
    "    if a == 0 :\n",
    "        print('indeterminado')\n",
    "    else:\n",
    "        xp = int((b**2-(4*(a*c))))\n",
    "        if xp<0:\n",
    "            print('indeterminado')\n",
    "        else:\n",
    "            xp = int(xp**(1/2))\n",
    "            xp = int(((b*-1)+xp)/(2*a))\n",
    "        print(xp)\n",
    "    if a == 0 :\n",
    "        print('indeterminado')\n",
    "    else:\n",
    "        xn =int( (b**2-(4*(a*c))))\n",
    "        if xn<0:\n",
    "            print('indeterminado')\n",
    "        else:\n",
    "            xn =int(xn**(1/2))\n",
    "            xn =int(((b*-1)-xn)/(2*a))\n",
    "        print(xn)\n",
    "\n",
    "cuadratica()"
   ]
  },
  {
   "cell_type": "raw",
   "id": "d523934f-f98a-428f-a1aa-72671857eeef",
   "metadata": {},
   "source": [
    "7. MODULOS\n",
    "    En Python, un módulo es un archivo con extensión .py que contiene funciones, variables, clases, y sentencias ejecutables"
   ]
  },
  {
   "cell_type": "raw",
   "id": "64b922d4-0c81-420a-be25-48203edc888c",
   "metadata": {},
   "source": [
    "8. PAQUETES\n",
    "    on una forma de estructurar el espacio de nombres de módulos de Python usando"
   ]
  },
  {
   "cell_type": "raw",
   "id": "07914493-590b-41d9-9812-5b43bb9b977f",
   "metadata": {},
   "source": [
    "9. ARCHIVOS\n",
    "    métodos integrados, que incluyen la creación, apertura y cierre de archivos. Mientras los archivos están abiertos, \n",
    "    Python también permite realizar diversas operaciones con archivos, como leer, escribir y añadir información.\n",
    "    para  "
   ]
  },
  {
   "cell_type": "raw",
   "id": "8f3980e9-9874-4dd4-83ec-26762e6ed9d3",
   "metadata": {},
   "source": [
    "  9.1 ejemplo csv"
   ]
  },
  {
   "cell_type": "code",
   "execution_count": null,
   "id": "d20d8217-8282-49b4-9166-a0b8e6d4d347",
   "metadata": {},
   "outputs": [],
   "source": [
    "import csv\n",
    "with open('PROYECTO/personas.csv',\"r\",encoding=('utf-8')) as archivo:\n",
    "            con=0\n",
    "            paises=[]\n",
    "            lector = csv.reader(archivo)\n",
    "            x=(list(lector))\n",
    "            del x[0]\n",
    "            dicion={}\n",
    "            for persona in x:\n",
    "                paises.append(persona[0])\n",
    "                \n",
    "            for pa in paises:\n",
    "                if pa in dicion:\n",
    "                    dicion[pa] += 1\n",
    "                else:\n",
    "                    dicion[pa] = 1\n",
    "                    \n",
    "            for i in dicion:\n",
    "                print(f'en {i} : hay {dicion[i]} colombianos')"
   ]
  },
  {
   "cell_type": "raw",
   "id": "9b78216a-7a7e-45ed-8423-dac47e361ccd",
   "metadata": {},
   "source": [
    "        9.2 ejemplo json"
   ]
  },
  {
   "cell_type": "code",
   "execution_count": null,
   "id": "0b42a554-fa4f-43b5-9d5e-d4968057121d",
   "metadata": {},
   "outputs": [],
   "source": [
    "import json\n",
    "with open ('ARCHIVOS/employees.json','r',encoding='utf-8') as empl:\n",
    "    data=json.load(empl)\n",
    "    \n",
    "\n",
    "sal=[]\n",
    "for i in data:\n",
    "    sal.append(int(i['SALARY']))\n",
    "    \n",
    "print(sal)\n",
    "\n",
    "def media (lista): \n",
    "    suma = 0\n",
    "    for i in lista:\n",
    "        suma = suma + i\n",
    "        m= suma / len(lista)\n",
    "    return  m\n",
    "\n",
    "med=media(sal)\n",
    "\n",
    "print(f'el promedio salarial es : {med}')\n"
   ]
  },
  {
   "cell_type": "code",
   "execution_count": null,
   "id": "d194edc3-1e90-44fe-a558-c06ca5e083b0",
   "metadata": {},
   "outputs": [],
   "source": []
  }
 ],
 "metadata": {
  "kernelspec": {
   "display_name": "Python [conda env:base] *",
   "language": "python",
   "name": "conda-base-py"
  },
  "language_info": {
   "codemirror_mode": {
    "name": "ipython",
    "version": 3
   },
   "file_extension": ".py",
   "mimetype": "text/x-python",
   "name": "python",
   "nbconvert_exporter": "python",
   "pygments_lexer": "ipython3",
   "version": "3.12.7"
  }
 },
 "nbformat": 4,
 "nbformat_minor": 5
}
