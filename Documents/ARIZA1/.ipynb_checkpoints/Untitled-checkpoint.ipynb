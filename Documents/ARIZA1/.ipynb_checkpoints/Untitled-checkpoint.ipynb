{
 "cells": [
  {
   "cell_type": "code",
   "execution_count": 72,
   "id": "094db846-ec54-4e86-a48b-0cacb7e582d4",
   "metadata": {},
   "outputs": [],
   "source": [
    "import numpy as np\n",
    "escalar= np.array(10)\n",
    "vector=np.array([1,3,5,7,9])\n",
    "matrix=np.array([[1,2,3],[4,5,6],[7,8,9]])\n",
    "tensor=np.array([[[1,2,3,4,5],[6,7,8,9,10],[11,12,13,14,15]],\n",
    "                 [[1,2,3,4,5],[6,7,8,9,10],[11,12,13,14,15]],\n",
    "                 [[1,2,3,4,5],[6,7,8,9,10],[11,12,13,14,15]]])"
   ]
  },
  {
   "cell_type": "code",
   "execution_count": 290,
   "id": "e49af826-f800-4ef4-803b-c35e1465edd2",
   "metadata": {
    "collapsed": true,
    "jupyter": {
     "outputs_hidden": true,
     "source_hidden": true
    },
    "scrolled": true
   },
   "outputs": [
    {
     "name": "stdout",
     "output_type": "stream",
     "text": [
      "10\n",
      "[1 3 5 7 9]\n",
      "[[1 2 3]\n",
      " [4 5 6]\n",
      " [7 8 9]]\n"
     ]
    }
   ],
   "source": [
    "print(escalar)\n",
    "print(vector)\n",
    "print(matrix)\n",
    "\n"
   ]
  },
  {
   "cell_type": "code",
   "execution_count": 292,
   "id": "b561e403-6cb5-4c3c-9b82-094c5eb1b28f",
   "metadata": {
    "collapsed": true,
    "jupyter": {
     "outputs_hidden": true
    },
    "scrolled": true
   },
   "outputs": [
    {
     "name": "stdout",
     "output_type": "stream",
     "text": [
      "[[[ 1  2  3  4  5]\n",
      "  [ 6  7  8  9 10]\n",
      "  [11 12 13 14 15]]\n",
      "\n",
      " [[ 1  2  3  4  5]\n",
      "  [ 6  7  8  9 10]\n",
      "  [11 12 13 14 15]]\n",
      "\n",
      " [[ 1  2  3  4  5]\n",
      "  [ 6  7  8  9 10]\n",
      "  [11 12 13 14 15]]]\n"
     ]
    }
   ],
   "source": [
    "print(tensor)"
   ]
  },
  {
   "cell_type": "code",
   "execution_count": 255,
   "id": "15c12dda-c1f2-452e-a31d-90dd7ce4b2c8",
   "metadata": {
    "jupyter": {
     "source_hidden": true
    }
   },
   "outputs": [],
   "source": [
    "ceros=np.zeros((2,3))\n",
    "unos=np.ones((3,2)) "
   ]
  },
  {
   "cell_type": "code",
   "execution_count": 257,
   "id": "ea2b4e42-76c0-4478-939b-0cd5b8f44a8c",
   "metadata": {
    "collapsed": true,
    "jupyter": {
     "outputs_hidden": true,
     "source_hidden": true
    },
    "scrolled": true
   },
   "outputs": [
    {
     "name": "stdout",
     "output_type": "stream",
     "text": [
      "ceros:\n",
      " [[0. 0. 0.]\n",
      " [0. 0. 0.]]\n",
      "unos:\n",
      " [[1. 1.]\n",
      " [1. 1.]\n",
      " [1. 1.]]\n"
     ]
    }
   ],
   "source": [
    "print(\"ceros:\\n\",ceros)\n",
    "print(\"unos:\\n\",unos)"
   ]
  },
  {
   "cell_type": "code",
   "execution_count": 259,
   "id": "b4195b03-9cc2-4186-9a6c-b065a32ed030",
   "metadata": {
    "collapsed": true,
    "jupyter": {
     "outputs_hidden": true,
     "source_hidden": true
    }
   },
   "outputs": [
    {
     "name": "stdout",
     "output_type": "stream",
     "text": [
      "[0 2 4 6 8]\n"
     ]
    }
   ],
   "source": [
    "rango= np.arange(0,10,2)\n",
    "print(rango)"
   ]
  },
  {
   "cell_type": "code",
   "execution_count": 261,
   "id": "cf895534-6be7-44e1-a36f-2c01790e80c2",
   "metadata": {
    "collapsed": true,
    "jupyter": {
     "outputs_hidden": true,
     "source_hidden": true
    }
   },
   "outputs": [
    {
     "name": "stdout",
     "output_type": "stream",
     "text": [
      "dimensiones: 2\n",
      "formas : (3, 3)\n",
      "tamaño : 9\n",
      "tipo de dato : int32\n"
     ]
    }
   ],
   "source": [
    "arrglo_2=np.array([[1,2,3],[4,5,6],[7,8,9]])\n",
    "print(\"dimensiones:\",arrglo_2.ndim)\n",
    "print(\"formas :\",arrglo_2.shape)\n",
    "print(\"tamaño :\",arrglo_2.size)\n",
    "print(\"tipo de dato :\",arrglo_2.dtype)"
   ]
  },
  {
   "cell_type": "code",
   "execution_count": 263,
   "id": "16682c7a-31b4-49f3-9683-23f1f54d3606",
   "metadata": {
    "collapsed": true,
    "jupyter": {
     "outputs_hidden": true,
     "source_hidden": true
    },
    "scrolled": true
   },
   "outputs": [
    {
     "name": "stdout",
     "output_type": "stream",
     "text": [
      "suma:  [5 7 9]\n",
      "multiplocacion:  [ 4 10 18]\n",
      "multiplicar por 2 : [2 4 6]\n",
      "raiz cuadrada:  [1.         1.41421356 1.73205081]\n",
      "seno : [0.84147098 0.90929743 0.14112001]\n"
     ]
    }
   ],
   "source": [
    "a=np.array([1,2,3])\n",
    "b=np.array([4,5,6])\n",
    "print(\"suma: \", a+b)\n",
    "print(\"multiplocacion: \", a*b)\n",
    "print('multiplicar por 2 :',a*2)\n",
    "print('raiz cuadrada: ',np.sqrt(a))\n",
    "print('seno :',np.sin(a))"
   ]
  },
  {
   "cell_type": "code",
   "execution_count": 265,
   "id": "9eebee41-64a5-400c-bae6-890d8e1208e5",
   "metadata": {
    "collapsed": true,
    "jupyter": {
     "outputs_hidden": true,
     "source_hidden": true
    }
   },
   "outputs": [
    {
     "name": "stdout",
     "output_type": "stream",
     "text": [
      "2\n",
      "[2 5]\n",
      "[4 5 6]\n",
      "[4 5 6]\n"
     ]
    }
   ],
   "source": [
    "arrglo_3=np.array([[1,2,3],[4,5,6]])\n",
    "print(arrglo_3[0,1])\n",
    "print(arrglo_3[:,1])\n",
    "print(arrglo_3[1,:])\n",
    "print(arrglo_3[arrglo_3>3])"
   ]
  },
  {
   "cell_type": "code",
   "execution_count": 267,
   "id": "b7479413-297d-41fe-a772-8cb13a29f5d8",
   "metadata": {
    "collapsed": true,
    "jupyter": {
     "outputs_hidden": true,
     "source_hidden": true
    }
   },
   "outputs": [
    {
     "name": "stdout",
     "output_type": "stream",
     "text": [
      "[[0 1 2]\n",
      " [3 4 5]]\n"
     ]
    }
   ],
   "source": [
    "arrglo_4=np.arange(6)\n",
    "nuevo=arrglo_4.reshape(2,3)\n",
    "print(nuevo)"
   ]
  },
  {
   "cell_type": "code",
   "execution_count": 269,
   "id": "e727bf68-bc9a-46ab-a7d6-fd00c4dd0011",
   "metadata": {
    "collapsed": true,
    "jupyter": {
     "outputs_hidden": true,
     "source_hidden": true
    }
   },
   "outputs": [
    {
     "name": "stdout",
     "output_type": "stream",
     "text": [
      "[0 1 2 3 4 5]\n"
     ]
    }
   ],
   "source": [
    "plano=nuevo.flatten()\n",
    "print(plano)\n"
   ]
  },
  {
   "cell_type": "code",
   "execution_count": 271,
   "id": "af4a573e-e8b8-4163-804f-82aa29a34f2f",
   "metadata": {
    "collapsed": true,
    "jupyter": {
     "outputs_hidden": true,
     "source_hidden": true
    },
    "scrolled": true
   },
   "outputs": [
    {
     "name": "stdout",
     "output_type": "stream",
     "text": [
      "[[19 22]\n",
      " [43 50]]\n",
      "[[5 7]\n",
      " [6 8]]\n",
      "suma:  [12 14]\n",
      "promedio : 6.5\n",
      "maximo :  8\n"
     ]
    }
   ],
   "source": [
    "a= np.array([[1,2],[3,4]])\n",
    "a= np.array([[5,6],[7,8]])\n",
    "print(np.dot(c,d))\n",
    "print(a.T)\n",
    "print('suma: ',sum(a))\n",
    "print('promedio :',np.mean(a))\n",
    "print('maximo : ',np.max(a))"
   ]
  },
  {
   "cell_type": "code",
   "execution_count": 273,
   "id": "93f91dd0-f5bc-4ec5-a1ae-0b13478c68f5",
   "metadata": {
    "collapsed": true,
    "jupyter": {
     "outputs_hidden": true,
     "source_hidden": true
    },
    "scrolled": true
   },
   "outputs": [
    {
     "name": "stdout",
     "output_type": "stream",
     "text": [
      "[[0.32790487 0.36247538 0.74336074]\n",
      " [0.16169661 0.83792671 0.52930801]]\n",
      "[[7 4]\n",
      " [8 4]]\n"
     ]
    }
   ],
   "source": [
    "alea=np.random.rand(2,3)\n",
    "print(alea)\n",
    "enteros=np.random.randint(1,10 ,size=(2,2))\n",
    "print(enteros)"
   ]
  },
  {
   "cell_type": "code",
   "execution_count": 74,
   "id": "f1b14253-ba39-4892-b0cf-a2b87741449c",
   "metadata": {
    "jupyter": {
     "source_hidden": true
    }
   },
   "outputs": [
    {
     "data": {
      "text/plain": [
       "array([96,  5,  1, 83,  7, 63, 61, 87,  3, 99, 51,  8, 80, 65, 50])"
      ]
     },
     "execution_count": 74,
     "metadata": {},
     "output_type": "execute_result"
    }
   ],
   "source": [
    "import random\n",
    "vec=np.random.randint(1,100,size=random.randint(5,15))\n",
    "vec"
   ]
  },
  {
   "cell_type": "code",
   "execution_count": 330,
   "id": "c692c333-43ac-47eb-9a01-ccdd1a3e4956",
   "metadata": {
    "collapsed": true,
    "jupyter": {
     "outputs_hidden": true,
     "source_hidden": true
    }
   },
   "outputs": [
    {
     "data": {
      "text/plain": [
       "array([0, 1, 2, 3, 4, 5])"
      ]
     },
     "execution_count": 330,
     "metadata": {},
     "output_type": "execute_result"
    }
   ],
   "source": [
    "arrglo=np.arange(6)\n",
    "n=arrglo.reshape(2,3)\n",
    "arrglo"
   ]
  },
  {
   "cell_type": "code",
   "execution_count": 70,
   "id": "a8289bfd-326e-4307-ad62-76c02b442464",
   "metadata": {
    "collapsed": true,
    "jupyter": {
     "outputs_hidden": true,
     "source_hidden": true
    },
    "scrolled": true
   },
   "outputs": [
    {
     "name": "stdout",
     "output_type": "stream",
     "text": [
      "[34 46  2 43 21 26 50]\n",
      "7\n"
     ]
    },
    {
     "ename": "KeyboardInterrupt",
     "evalue": "Interrupted by user",
     "output_type": "error",
     "traceback": [
      "\u001b[1;31m---------------------------------------------------------------------------\u001b[0m",
      "\u001b[1;31mKeyboardInterrupt\u001b[0m                         Traceback (most recent call last)",
      "Cell \u001b[1;32mIn[70], line 6\u001b[0m\n\u001b[0;32m      4\u001b[0m \u001b[38;5;28mprint\u001b[39m(vec)\n\u001b[0;32m      5\u001b[0m \u001b[38;5;28mprint\u001b[39m(tam)\n\u001b[1;32m----> 6\u001b[0m f\u001b[38;5;241m=\u001b[39m\u001b[38;5;28mint\u001b[39m(\u001b[38;5;28minput\u001b[39m(\u001b[38;5;124m'\u001b[39m\u001b[38;5;124mingrese la cantidad de filas en las que desea organizar el vector  : \u001b[39m\u001b[38;5;124m'\u001b[39m))\n\u001b[0;32m      7\u001b[0m c\u001b[38;5;241m=\u001b[39m\u001b[38;5;28mint\u001b[39m(\u001b[38;5;28minput\u001b[39m(\u001b[38;5;124m'\u001b[39m\u001b[38;5;124mingrese la cantidad de columnas en las que desea organizar el vector : \u001b[39m\u001b[38;5;124m'\u001b[39m))\n\u001b[0;32m      8\u001b[0m pro\u001b[38;5;241m=\u001b[39mc\u001b[38;5;241m*\u001b[39mf   \n",
      "File \u001b[1;32m~\\anaconda3\\Lib\\site-packages\\ipykernel\\kernelbase.py:1262\u001b[0m, in \u001b[0;36mKernel.raw_input\u001b[1;34m(self, prompt)\u001b[0m\n\u001b[0;32m   1260\u001b[0m     msg \u001b[38;5;241m=\u001b[39m \u001b[38;5;124m\"\u001b[39m\u001b[38;5;124mraw_input was called, but this frontend does not support input requests.\u001b[39m\u001b[38;5;124m\"\u001b[39m\n\u001b[0;32m   1261\u001b[0m     \u001b[38;5;28;01mraise\u001b[39;00m StdinNotImplementedError(msg)\n\u001b[1;32m-> 1262\u001b[0m \u001b[38;5;28;01mreturn\u001b[39;00m \u001b[38;5;28mself\u001b[39m\u001b[38;5;241m.\u001b[39m_input_request(\n\u001b[0;32m   1263\u001b[0m     \u001b[38;5;28mstr\u001b[39m(prompt),\n\u001b[0;32m   1264\u001b[0m     \u001b[38;5;28mself\u001b[39m\u001b[38;5;241m.\u001b[39m_parent_ident[\u001b[38;5;124m\"\u001b[39m\u001b[38;5;124mshell\u001b[39m\u001b[38;5;124m\"\u001b[39m],\n\u001b[0;32m   1265\u001b[0m     \u001b[38;5;28mself\u001b[39m\u001b[38;5;241m.\u001b[39mget_parent(\u001b[38;5;124m\"\u001b[39m\u001b[38;5;124mshell\u001b[39m\u001b[38;5;124m\"\u001b[39m),\n\u001b[0;32m   1266\u001b[0m     password\u001b[38;5;241m=\u001b[39m\u001b[38;5;28;01mFalse\u001b[39;00m,\n\u001b[0;32m   1267\u001b[0m )\n",
      "File \u001b[1;32m~\\anaconda3\\Lib\\site-packages\\ipykernel\\kernelbase.py:1305\u001b[0m, in \u001b[0;36mKernel._input_request\u001b[1;34m(self, prompt, ident, parent, password)\u001b[0m\n\u001b[0;32m   1302\u001b[0m \u001b[38;5;28;01mexcept\u001b[39;00m \u001b[38;5;167;01mKeyboardInterrupt\u001b[39;00m:\n\u001b[0;32m   1303\u001b[0m     \u001b[38;5;66;03m# re-raise KeyboardInterrupt, to truncate traceback\u001b[39;00m\n\u001b[0;32m   1304\u001b[0m     msg \u001b[38;5;241m=\u001b[39m \u001b[38;5;124m\"\u001b[39m\u001b[38;5;124mInterrupted by user\u001b[39m\u001b[38;5;124m\"\u001b[39m\n\u001b[1;32m-> 1305\u001b[0m     \u001b[38;5;28;01mraise\u001b[39;00m \u001b[38;5;167;01mKeyboardInterrupt\u001b[39;00m(msg) \u001b[38;5;28;01mfrom\u001b[39;00m \u001b[38;5;28;01mNone\u001b[39;00m\n\u001b[0;32m   1306\u001b[0m \u001b[38;5;28;01mexcept\u001b[39;00m \u001b[38;5;167;01mException\u001b[39;00m:\n\u001b[0;32m   1307\u001b[0m     \u001b[38;5;28mself\u001b[39m\u001b[38;5;241m.\u001b[39mlog\u001b[38;5;241m.\u001b[39mwarning(\u001b[38;5;124m\"\u001b[39m\u001b[38;5;124mInvalid Message:\u001b[39m\u001b[38;5;124m\"\u001b[39m, exc_info\u001b[38;5;241m=\u001b[39m\u001b[38;5;28;01mTrue\u001b[39;00m)\n",
      "\u001b[1;31mKeyboardInterrupt\u001b[0m: Interrupted by user"
     ]
    }
   ],
   "source": [
    "#1\n",
    "vec=np.random.randint(1,100,size=random.randint(5,15))\n",
    "tam=vec.size\n",
    "while con!=0:\n",
    "    print(vec)\n",
    "    print(tam)\n",
    "    f=int(input('ingrese la cantidad de filas en las que desea organizar el vector  : '))\n",
    "    c=int(input('ingrese la cantidad de columnas en las que desea organizar el vector : '))\n",
    "    pro=c*f   \n",
    "    if pro == tam:\n",
    "        n=vec.reshape(f,c)\n",
    "        print(n)\n",
    "        break\n",
    "    else:\n",
    "        print('la candidad de columnas o filas o coincide con el tamaño del vector ,por favor vuelve a introducir los valores ')"
   ]
  },
  {
   "cell_type": "code",
   "execution_count": 68,
   "id": "d704565c-7e4c-45a4-b5e4-5a4c915203fc",
   "metadata": {
    "collapsed": true,
    "jupyter": {
     "outputs_hidden": true,
     "source_hidden": true
    }
   },
   "outputs": [
    {
     "name": "stdout",
     "output_type": "stream",
     "text": [
      "[86 66 28 16 10 16 22 69 37 73 92 73  4]\n",
      "13\n",
      "[86 66 28 16 10 16 22 69 37 73 92 73  4 47]\n",
      "14\n"
     ]
    },
    {
     "name": "stdin",
     "output_type": "stream",
     "text": [
      "ingrese la cantidad de filas en las que desea organizar el vector  :  7\n",
      "ingrese la cantidad de columnas en las que desea organizar el vector :  2\n"
     ]
    },
    {
     "name": "stdout",
     "output_type": "stream",
     "text": [
      "[[86 66]\n",
      " [28 16]\n",
      " [10 16]\n",
      " [22 69]\n",
      " [37 73]\n",
      " [92 73]\n",
      " [ 4 47]]\n"
     ]
    }
   ],
   "source": [
    "#2\n",
    "vec=np.random.randint(1,100,size=random.randint(5,15))\n",
    "tam=vec.size\n",
    "print(vec)\n",
    "print(tam)\n",
    "if tam%2==0 or tam%3==0:\n",
    "    con=1\n",
    "    while con!=0:\n",
    "        print(vec)\n",
    "        print(tam)\n",
    "        f=int(input('ingrese la cantidad de filas en las que desea organizar el vector  : '))\n",
    "        c=int(input('ingrese la cantidad de columnas en las que desea organizar el vector : '))\n",
    "        pro=c*f   \n",
    "        if pro == tam:\n",
    "            n=vec.reshape(f,c)\n",
    "            print(n)\n",
    "            break\n",
    "        else:\n",
    "            print('la candidad de columnas o filas o coincide con el tamaño del vector ,por favor vuelve a introducir los valores ')\n",
    "else:\n",
    "    n=random.randint(1,100)\n",
    "    vec=np.append(vec,n)\n",
    "    con=1\n",
    "    tam=vec.size\n",
    "    while con!=0:\n",
    "        print(vec)\n",
    "        print(tam)\n",
    "        f=int(input('ingrese la cantidad de filas en las que desea organizar el vector  : '))\n",
    "        c=int(input('ingrese la cantidad de columnas en las que desea organizar el vector : '))\n",
    "        pro=c*f   \n",
    "        if pro == tam:\n",
    "            n=vec.reshape(f,c)\n",
    "            print(n)\n",
    "            break\n",
    "        else:\n",
    "            print('la candidad de columnas o filas o coincide con el tamaño del vector ,por favor vuelve a introducir los valores ')"
   ]
  },
  {
   "cell_type": "code",
   "execution_count": 78,
   "id": "ebaad56e-dbc7-4772-96f1-a0b288611761",
   "metadata": {},
   "outputs": [
    {
     "data": {
      "text/plain": [
       "array([[ 6, 67, 75, 82, 93],\n",
       "       [55, 33, 24, 71, 19],\n",
       "       [85, 82, 42, 58, 51],\n",
       "       [31, 69, 83, 59,  8],\n",
       "       [27, 89, 82, 82, 97]])"
      ]
     },
     "execution_count": 78,
     "metadata": {},
     "output_type": "execute_result"
    }
   ],
   "source": [
    "matrix=np.random.randint(1,100,size=(5,5))\n",
    "matrix"
   ]
  },
  {
   "cell_type": "code",
   "execution_count": 84,
   "id": "9da5d27b-6dd2-4c62-ac4e-2c5a349ae437",
   "metadata": {},
   "outputs": [
    {
     "data": {
      "text/plain": [
       "array([[75, 82, 93],\n",
       "       [24, 71, 19],\n",
       "       [42, 58, 51],\n",
       "       [83, 59,  8],\n",
       "       [82, 82, 97]])"
      ]
     },
     "execution_count": 84,
     "metadata": {},
     "output_type": "execute_result"
    }
   ],
   "source": [
    "matrix[:,2:]"
   ]
  },
  {
   "cell_type": "code",
   "execution_count": 86,
   "id": "12df5105-7fd7-4adb-a815-3fd0067d3ea2",
   "metadata": {},
   "outputs": [
    {
     "data": {
      "text/plain": [
       "array([[85, 82, 42, 58, 51],\n",
       "       [31, 69, 83, 59,  8],\n",
       "       [27, 89, 82, 82, 97]])"
      ]
     },
     "execution_count": 86,
     "metadata": {},
     "output_type": "execute_result"
    }
   ],
   "source": [
    "matrix[:,2:]"
   ]
  },
  {
   "cell_type": "code",
   "execution_count": 90,
   "id": "53c39252-12d1-4ece-ace7-526f2bdcb9f9",
   "metadata": {},
   "outputs": [
    {
     "data": {
      "text/plain": [
       "array([[93, 82, 75],\n",
       "       [19, 71, 24],\n",
       "       [51, 58, 42],\n",
       "       [ 8, 59, 83],\n",
       "       [97, 82, 82]])"
      ]
     },
     "execution_count": 90,
     "metadata": {},
     "output_type": "execute_result"
    }
   ],
   "source": [
    "matrix[:,-1:-4:-1]"
   ]
  },
  {
   "cell_type": "code",
   "execution_count": 94,
   "id": "a39de6b7-d7ad-4f68-94b7-1d99028b91ba",
   "metadata": {},
   "outputs": [
    {
     "data": {
      "text/plain": [
       "array([[27, 89, 82, 82, 97],\n",
       "       [85, 82, 42, 58, 51],\n",
       "       [ 6, 67, 75, 82, 93]])"
      ]
     },
     "execution_count": 94,
     "metadata": {},
     "output_type": "execute_result"
    }
   ],
   "source": [
    "matrix[-1::-2,:]"
   ]
  },
  {
   "cell_type": "code",
   "execution_count": 106,
   "id": "1ec33021-8405-4f76-b3d3-c3c8d602632f",
   "metadata": {},
   "outputs": [
    {
     "data": {
      "text/plain": [
       "array([55, 33, 24, 71, 19])"
      ]
     },
     "execution_count": 106,
     "metadata": {},
     "output_type": "execute_result"
    }
   ],
   "source": [
    "matrix[1,:]"
   ]
  },
  {
   "cell_type": "code",
   "execution_count": 146,
   "id": "4f344ab5-ca7c-4c43-bf5e-1756d4a24e88",
   "metadata": {},
   "outputs": [
    {
     "name": "stdout",
     "output_type": "stream",
     "text": [
      " la suma de la fila es :  323\n",
      " la suma de la fila es :  202\n",
      " la suma de la fila es :  318\n",
      " la suma de la fila es :  250\n",
      " la suma de la fila es :  377\n",
      " el promedio de la fila es:  64.6\n",
      " el promedio de la fila es:  40.4\n",
      " el promedio de la fila es:  63.6\n",
      " el promedio de la fila es:  50.0\n",
      " el promedio de la fila es:  75.4\n",
      " el numero maximo de la fila es : 93\n",
      " el numero maximo de la fila es : 71\n",
      " el numero maximo de la fila es : 85\n",
      " el numero maximo de la fila es : 83\n",
      " el numero maximo de la fila es : 97\n"
     ]
    }
   ],
   "source": [
    "c=0\n",
    "for i in matrix:\n",
    "    vec=matrix[c,:]\n",
    "    suma=np.sum(vec)\n",
    "    print(' la suma de la fila es : ',suma)\n",
    "    c+=1\n",
    "c=0\n",
    "for i in matrix:\n",
    "    vec=matrix[c,:]\n",
    "    pro=np.mean(vec)\n",
    "    print(' el promedio de la fila es: ',pro)\n",
    "    c+=1\n",
    "c=0\n",
    "for i in matrix:\n",
    "    vec=matrix[c,:]\n",
    "    maximo=np.max(vec)\n",
    "    print(' el numero maximo de la fila es :',maximo)\n",
    "    c+=1\n",
    "    "
   ]
  },
  {
   "cell_type": "code",
   "execution_count": null,
   "id": "6143132c-e22b-47ec-812e-2fb3500fa621",
   "metadata": {},
   "outputs": [],
   "source": []
  }
 ],
 "metadata": {
  "kernelspec": {
   "display_name": "Python [conda env:base] *",
   "language": "python",
   "name": "conda-base-py"
  },
  "language_info": {
   "codemirror_mode": {
    "name": "ipython",
    "version": 3
   },
   "file_extension": ".py",
   "mimetype": "text/x-python",
   "name": "python",
   "nbconvert_exporter": "python",
   "pygments_lexer": "ipython3",
   "version": "3.12.7"
  }
 },
 "nbformat": 4,
 "nbformat_minor": 5
}
