{
 "cells": [
  {
   "cell_type": "code",
   "execution_count": 191,
   "id": "67e97479-5011-457d-a725-210044e3cce4",
   "metadata": {
    "scrolled": true
   },
   "outputs": [
    {
     "name": "stdout",
     "output_type": "stream",
     "text": [
      "<_csv.reader object at 0x0000025DB0C1B520>\n",
      "<class '_csv.reader'>\n",
      "['EMPLOYEE_ID', 'FIRST_NAME', 'LAST_NAME', 'EMAIL', 'PHONE_NUMBER', 'HIRE_DATE', 'JOB_ID', 'SALARY', 'COMMISSION_PCT', 'MANAGER_ID', 'DEPARTMENT_ID']\n",
      "['198', 'Donald', 'OConnell', 'DOCONNEL', '650.507.9833', '21-JUN-07', 'SH_CLERK', '2600', ' - ', '124', '50']\n",
      "['199', 'Douglas', 'Grant', 'DGRANT', '650.507.9844', '13-JAN-08', 'SH_CLERK', '2600', ' - ', '124', '50']\n",
      "['200', 'Jennifer', 'Whalen', 'JWHALEN', '515.123.4444', '17-SEP-03', 'AD_ASST', '4400', ' - ', '101', '10']\n",
      "['201', 'Michael', 'Hartstein', 'MHARTSTE', '515.123.5555', '17-FEB-04', 'MK_MAN', '13000', ' - ', '100', '20']\n",
      "['202', 'Pat', 'Fay', 'PFAY', '603.123.6666', '17-AUG-05', 'MK_REP', '6000', ' - ', '201', '20']\n",
      "['203', 'Susan', 'Mavris', 'SMAVRIS', '515.123.7777', '07-JUN-02', 'HR_REP', '6500', ' - ', '101', '40']\n",
      "['204', 'Hermann', 'Baer', 'HBAER', '515.123.8888', '07-JUN-02', 'PR_REP', '10000', ' - ', '101', '70']\n",
      "['205', 'Shelley', 'Higgins', 'SHIGGINS', '515.123.8080', '07-JUN-02', 'AC_MGR', '12008', ' - ', '101', '110']\n",
      "['206', 'William', 'Gietz', 'WGIETZ', '515.123.8181', '07-JUN-02', 'AC_ACCOUNT', '8300', ' - ', '205', '110']\n",
      "['100', 'Steven', 'King', 'SKING', '515.123.4567', '17-JUN-03', 'AD_PRES', '24000', ' - ', ' - ', '90']\n",
      "['101', 'Neena', 'Kochhar', 'NKOCHHAR', '515.123.4568', '21-SEP-05', 'AD_VP', '17000', ' - ', '100', '90']\n",
      "['102', 'Lex', 'De Haan', 'LDEHAAN', '515.123.4569', '13-JAN-01', 'AD_VP', '17000', ' - ', '100', '90']\n",
      "['103', 'Alexander', 'Hunold', 'AHUNOLD', '590.423.4567', '03-JAN-06', 'IT_PROG', '9000', ' - ', '102', '60']\n",
      "['104', 'Bruce', 'Ernst', 'BERNST', '590.423.4568', '21-MAY-07', 'IT_PROG', '6000', ' - ', '103', '60']\n",
      "['105', 'David', 'Austin', 'DAUSTIN', '590.423.4569', '25-JUN-05', 'IT_PROG', '4800', ' - ', '103', '60']\n",
      "['106', 'Valli', 'Pataballa', 'VPATABAL', '590.423.4560', '05-FEB-06', 'IT_PROG', '4800', ' - ', '103', '60']\n",
      "['107', 'Diana', 'Lorentz', 'DLORENTZ', '590.423.5567', '07-FEB-07', 'IT_PROG', '4200', ' - ', '103', '60']\n",
      "['108', 'Nancy', 'Greenberg', 'NGREENBE', '515.124.4569', '17-AUG-02', 'FI_MGR', '12008', ' - ', '101', '100']\n",
      "['109', 'Daniel', 'Faviet', 'DFAVIET', '515.124.4169', '16-AUG-02', 'FI_ACCOUNT', '9000', ' - ', '108', '100']\n",
      "['110', 'John', 'Chen', 'JCHEN', '515.124.4269', '28-SEP-05', 'FI_ACCOUNT', '8200', ' - ', '108', '100']\n",
      "['111', 'Ismael', 'Sciarra', 'ISCIARRA', '515.124.4369', '30-SEP-05', 'FI_ACCOUNT', '7700', ' - ', '108', '100']\n",
      "['112', 'Jose Manuel', 'Urman', 'JMURMAN', '515.124.4469', '07-MAR-06', 'FI_ACCOUNT', '7800', ' - ', '108', '100']\n",
      "['113', 'Luis', 'Popp', 'LPOPP', '515.124.4567', '07-DEC-07', 'FI_ACCOUNT', '6900', ' - ', '108', '100']\n",
      "['114', 'Den', 'Raphaely', 'DRAPHEAL', '515.127.4561', '07-DEC-02', 'PU_MAN', '11000', ' - ', '100', '30']\n",
      "['115', 'Alexander', 'Khoo', 'AKHOO', '515.127.4562', '18-MAY-03', 'PU_CLERK', '3100', ' - ', '114', '30']\n",
      "['116', 'Shelli', 'Baida', 'SBAIDA', '515.127.4563', '24-DEC-05', 'PU_CLERK', '2900', ' - ', '114', '30']\n",
      "['117', 'Sigal', 'Tobias', 'STOBIAS', '515.127.4564', '24-JUL-05', 'PU_CLERK', '2800', ' - ', '114', '30']\n",
      "['118', 'Guy', 'Himuro', 'GHIMURO', '515.127.4565', '15-NOV-06', 'PU_CLERK', '2600', ' - ', '114', '30']\n",
      "['119', 'Karen', 'Colmenares', 'KCOLMENA', '515.127.4566', '10-AUG-07', 'PU_CLERK', '2500', ' - ', '114', '30']\n",
      "['120', 'Matthew', 'Weiss', 'MWEISS', '650.123.1234', '18-JUL-04', 'ST_MAN', '8000', ' - ', '100', '50']\n",
      "['121', 'Adam', 'Fripp', 'AFRIPP', '650.123.2234', '10-APR-05', 'ST_MAN', '8200', ' - ', '100', '50']\n",
      "['122', 'Payam', 'Kaufling', 'PKAUFLIN', '650.123.3234', '01-MAY-03', 'ST_MAN', '7900', ' - ', '100', '50']\n",
      "['123', 'Shanta', 'Vollman', 'SVOLLMAN', '650.123.4234', '10-OCT-05', 'ST_MAN', '6500', ' - ', '100', '50']\n",
      "['124', 'Kevin', 'Mourgos', 'KMOURGOS', '650.123.5234', '16-NOV-07', 'ST_MAN', '5800', ' - ', '100', '50']\n",
      "['125', 'Julia', 'Nayer', 'JNAYER', '650.124.1214', '16-JUL-05', 'ST_CLERK', '3200', ' - ', '120', '50']\n",
      "['126', 'Irene', 'Mikkilineni', 'IMIKKILI', '650.124.1224', '28-SEP-06', 'ST_CLERK', '2700', ' - ', '120', '50']\n",
      "['127', 'James', 'Landry', 'JLANDRY', '650.124.1334', '14-JAN-07', 'ST_CLERK', '2400', ' - ', '120', '50']\n",
      "['128', 'Steven', 'Markle', 'SMARKLE', '650.124.1434', '08-MAR-08', 'ST_CLERK', '2200', ' - ', '120', '50']\n",
      "['129', 'Laura', 'Bissot', 'LBISSOT', '650.124.5234', '20-AUG-05', 'ST_CLERK', '3300', ' - ', '121', '50']\n",
      "['130', 'Mozhe', 'Atkinson', 'MATKINSO', '650.124.6234', '30-OCT-05', 'ST_CLERK', '2800', ' - ', '121', '50']\n",
      "['131', 'James', 'Marlow', 'JAMRLOW', '650.124.7234', '16-FEB-05', 'ST_CLERK', '2500', ' - ', '121', '50']\n",
      "['132', 'TJ', 'Olson', 'TJOLSON', '650.124.8234', '10-APR-07', 'ST_CLERK', '2100', ' - ', '121', '50']\n",
      "['133', 'Jason', 'Mallin', 'JMALLIN', '650.127.1934', '14-JUN-04', 'ST_CLERK', '3300', ' - ', '122', '50']\n",
      "['134', 'Michael', 'Rogers', 'MROGERS', '650.127.1834', '26-AUG-06', 'ST_CLERK', '2900', ' - ', '122', '50']\n",
      "['135', 'Ki', 'Gee', 'KGEE', '650.127.1734', '12-DEC-07', 'ST_CLERK', '2400', ' - ', '122', '50']\n",
      "['136', 'Hazel', 'Philtanker', 'HPHILTAN', '650.127.1634', '06-FEB-08', 'ST_CLERK', '2200', ' - ', '122', '50']\n",
      "['137', 'Renske', 'Ladwig', 'RLADWIG', '650.121.1234', '14-JUL-03', 'ST_CLERK', '3600', ' - ', '123', '50']\n",
      "['138', 'Stephen', 'Stiles', 'SSTILES', '650.121.2034', '26-OCT-05', 'ST_CLERK', '3200', ' - ', '123', '50']\n",
      "['139', 'John', 'Seo', 'JSEO', '650.121.2019', '12-FEB-06', 'ST_CLERK', '2700', ' - ', '123', '50']\n",
      "['140', 'Joshua', 'Patel', 'JPATEL', '650.121.1834', '06-APR-06', 'ST_CLERK', '2500', ' - ', '123', '50']\n",
      "['EMPLOYEE_ID' 'FIRST_NAME' 'LAST_NAME' 'EMAIL' 'PHONE_NUMBER' 'HIRE_DATE'\n",
      " 'JOB_ID' 'SALARY' 'COMMISSION_PCT' 'MANAGER_ID' 'DEPARTMENT_ID' '198'\n",
      " 'Donald' 'OConnell' 'DOCONNEL' '650.507.9833' '21-JUN-07' 'SH_CLERK'\n",
      " '2600' ' - ' '124' '50' '199' 'Douglas' 'Grant' 'DGRANT' '650.507.9844'\n",
      " '13-JAN-08' 'SH_CLERK' '2600' ' - ' '124' '50' '200' 'Jennifer' 'Whalen'\n",
      " 'JWHALEN' '515.123.4444' '17-SEP-03' 'AD_ASST' '4400' ' - ' '101' '10'\n",
      " '201' 'Michael' 'Hartstein' 'MHARTSTE' '515.123.5555' '17-FEB-04'\n",
      " 'MK_MAN' '13000' ' - ' '100' '20' '202' 'Pat' 'Fay' 'PFAY' '603.123.6666'\n",
      " '17-AUG-05' 'MK_REP' '6000' ' - ' '201' '20' '203' 'Susan' 'Mavris'\n",
      " 'SMAVRIS' '515.123.7777' '07-JUN-02' 'HR_REP' '6500' ' - ' '101' '40'\n",
      " '204' 'Hermann' 'Baer' 'HBAER' '515.123.8888' '07-JUN-02' 'PR_REP'\n",
      " '10000' ' - ' '101' '70' '205' 'Shelley' 'Higgins' 'SHIGGINS'\n",
      " '515.123.8080' '07-JUN-02' 'AC_MGR' '12008' ' - ' '101' '110' '206'\n",
      " 'William' 'Gietz' 'WGIETZ' '515.123.8181' '07-JUN-02' 'AC_ACCOUNT' '8300'\n",
      " ' - ' '205' '110' '100' 'Steven' 'King' 'SKING' '515.123.4567'\n",
      " '17-JUN-03' 'AD_PRES' '24000' ' - ' ' - ' '90' '101' 'Neena' 'Kochhar'\n",
      " 'NKOCHHAR' '515.123.4568' '21-SEP-05' 'AD_VP' '17000' ' - ' '100' '90'\n",
      " '102' 'Lex' 'De Haan' 'LDEHAAN' '515.123.4569' '13-JAN-01' 'AD_VP'\n",
      " '17000' ' - ' '100' '90' '103' 'Alexander' 'Hunold' 'AHUNOLD'\n",
      " '590.423.4567' '03-JAN-06' 'IT_PROG' '9000' ' - ' '102' '60' '104'\n",
      " 'Bruce' 'Ernst' 'BERNST' '590.423.4568' '21-MAY-07' 'IT_PROG' '6000'\n",
      " ' - ' '103' '60' '105' 'David' 'Austin' 'DAUSTIN' '590.423.4569'\n",
      " '25-JUN-05' 'IT_PROG' '4800' ' - ' '103' '60' '106' 'Valli' 'Pataballa'\n",
      " 'VPATABAL' '590.423.4560' '05-FEB-06' 'IT_PROG' '4800' ' - ' '103' '60'\n",
      " '107' 'Diana' 'Lorentz' 'DLORENTZ' '590.423.5567' '07-FEB-07' 'IT_PROG'\n",
      " '4200' ' - ' '103' '60' '108' 'Nancy' 'Greenberg' 'NGREENBE'\n",
      " '515.124.4569' '17-AUG-02' 'FI_MGR' '12008' ' - ' '101' '100' '109'\n",
      " 'Daniel' 'Faviet' 'DFAVIET' '515.124.4169' '16-AUG-02' 'FI_ACCOUNT'\n",
      " '9000' ' - ' '108' '100' '110' 'John' 'Chen' 'JCHEN' '515.124.4269'\n",
      " '28-SEP-05' 'FI_ACCOUNT' '8200' ' - ' '108' '100' '111' 'Ismael'\n",
      " 'Sciarra' 'ISCIARRA' '515.124.4369' '30-SEP-05' 'FI_ACCOUNT' '7700' ' - '\n",
      " '108' '100' '112' 'Jose Manuel' 'Urman' 'JMURMAN' '515.124.4469'\n",
      " '07-MAR-06' 'FI_ACCOUNT' '7800' ' - ' '108' '100' '113' 'Luis' 'Popp'\n",
      " 'LPOPP' '515.124.4567' '07-DEC-07' 'FI_ACCOUNT' '6900' ' - ' '108' '100'\n",
      " '114' 'Den' 'Raphaely' 'DRAPHEAL' '515.127.4561' '07-DEC-02' 'PU_MAN'\n",
      " '11000' ' - ' '100' '30' '115' 'Alexander' 'Khoo' 'AKHOO' '515.127.4562'\n",
      " '18-MAY-03' 'PU_CLERK' '3100' ' - ' '114' '30' '116' 'Shelli' 'Baida'\n",
      " 'SBAIDA' '515.127.4563' '24-DEC-05' 'PU_CLERK' '2900' ' - ' '114' '30'\n",
      " '117' 'Sigal' 'Tobias' 'STOBIAS' '515.127.4564' '24-JUL-05' 'PU_CLERK'\n",
      " '2800' ' - ' '114' '30' '118' 'Guy' 'Himuro' 'GHIMURO' '515.127.4565'\n",
      " '15-NOV-06' 'PU_CLERK' '2600' ' - ' '114' '30' '119' 'Karen' 'Colmenares'\n",
      " 'KCOLMENA' '515.127.4566' '10-AUG-07' 'PU_CLERK' '2500' ' - ' '114' '30'\n",
      " '120' 'Matthew' 'Weiss' 'MWEISS' '650.123.1234' '18-JUL-04' 'ST_MAN'\n",
      " '8000' ' - ' '100' '50' '121' 'Adam' 'Fripp' 'AFRIPP' '650.123.2234'\n",
      " '10-APR-05' 'ST_MAN' '8200' ' - ' '100' '50' '122' 'Payam' 'Kaufling'\n",
      " 'PKAUFLIN' '650.123.3234' '01-MAY-03' 'ST_MAN' '7900' ' - ' '100' '50'\n",
      " '123' 'Shanta' 'Vollman' 'SVOLLMAN' '650.123.4234' '10-OCT-05' 'ST_MAN'\n",
      " '6500' ' - ' '100' '50' '124' 'Kevin' 'Mourgos' 'KMOURGOS' '650.123.5234'\n",
      " '16-NOV-07' 'ST_MAN' '5800' ' - ' '100' '50' '125' 'Julia' 'Nayer'\n",
      " 'JNAYER' '650.124.1214' '16-JUL-05' 'ST_CLERK' '3200' ' - ' '120' '50'\n",
      " '126' 'Irene' 'Mikkilineni' 'IMIKKILI' '650.124.1224' '28-SEP-06'\n",
      " 'ST_CLERK' '2700' ' - ' '120' '50' '127' 'James' 'Landry' 'JLANDRY'\n",
      " '650.124.1334' '14-JAN-07' 'ST_CLERK' '2400' ' - ' '120' '50' '128'\n",
      " 'Steven' 'Markle' 'SMARKLE' '650.124.1434' '08-MAR-08' 'ST_CLERK' '2200'\n",
      " ' - ' '120' '50' '129' 'Laura' 'Bissot' 'LBISSOT' '650.124.5234'\n",
      " '20-AUG-05' 'ST_CLERK' '3300' ' - ' '121' '50' '130' 'Mozhe' 'Atkinson'\n",
      " 'MATKINSO' '650.124.6234' '30-OCT-05' 'ST_CLERK' '2800' ' - ' '121' '50'\n",
      " '131' 'James' 'Marlow' 'JAMRLOW' '650.124.7234' '16-FEB-05' 'ST_CLERK'\n",
      " '2500' ' - ' '121' '50' '132' 'TJ' 'Olson' 'TJOLSON' '650.124.8234'\n",
      " '10-APR-07' 'ST_CLERK' '2100' ' - ' '121' '50' '133' 'Jason' 'Mallin'\n",
      " 'JMALLIN' '650.127.1934' '14-JUN-04' 'ST_CLERK' '3300' ' - ' '122' '50'\n",
      " '134' 'Michael' 'Rogers' 'MROGERS' '650.127.1834' '26-AUG-06' 'ST_CLERK'\n",
      " '2900' ' - ' '122' '50' '135' 'Ki' 'Gee' 'KGEE' '650.127.1734'\n",
      " '12-DEC-07' 'ST_CLERK' '2400' ' - ' '122' '50' '136' 'Hazel' 'Philtanker'\n",
      " 'HPHILTAN' '650.127.1634' '06-FEB-08' 'ST_CLERK' '2200' ' - ' '122' '50'\n",
      " '137' 'Renske' 'Ladwig' 'RLADWIG' '650.121.1234' '14-JUL-03' 'ST_CLERK'\n",
      " '3600' ' - ' '123' '50' '138' 'Stephen' 'Stiles' 'SSTILES' '650.121.2034'\n",
      " '26-OCT-05' 'ST_CLERK' '3200' ' - ' '123' '50' '139' 'John' 'Seo' 'JSEO'\n",
      " '650.121.2019' '12-FEB-06' 'ST_CLERK' '2700' ' - ' '123' '50' '140'\n",
      " 'Joshua' 'Patel' 'JPATEL' '650.121.1834' '06-APR-06' 'ST_CLERK' '2500'\n",
      " ' - ' '123' '50']\n"
     ]
    }
   ],
   "source": [
    "import csv\n",
    "import numpy as np\n",
    "arreglo=np.array([])\n",
    "type(arreglo)\n",
    "with open(\"empleados.csv\") as mycsv:\n",
    "    data=csv.reader(mycsv)\n",
    "    print(data)\n",
    "    print(type(data))\n",
    "    for x in data:\n",
    "        print(x)\n",
    "        arreglo=np.append(arreglo,x)\n",
    "    \n",
    "print(arreglo)"
   ]
  },
  {
   "cell_type": "code",
   "execution_count": 193,
   "id": "e0032fe5-a5a5-4c55-b0bc-3a508817fead",
   "metadata": {},
   "outputs": [
    {
     "name": "stdout",
     "output_type": "stream",
     "text": [
      "(561,)\n"
     ]
    }
   ],
   "source": [
    "print(arreglo.shape)"
   ]
  },
  {
   "cell_type": "code",
   "execution_count": 195,
   "id": "3be1c1b8-078e-4d17-a663-4f02988d0208",
   "metadata": {},
   "outputs": [],
   "source": [
    "matrix=arreglo.reshape(51,11)"
   ]
  },
  {
   "cell_type": "code",
   "execution_count": 197,
   "id": "3a8fe1f5-306c-4433-9ca6-4924e272438f",
   "metadata": {},
   "outputs": [
    {
     "data": {
      "text/plain": [
       "array([['EMPLOYEE_ID', 'FIRST_NAME', 'LAST_NAME', 'EMAIL',\n",
       "        'PHONE_NUMBER', 'HIRE_DATE', 'JOB_ID', 'SALARY',\n",
       "        'COMMISSION_PCT', 'MANAGER_ID', 'DEPARTMENT_ID'],\n",
       "       ['198', 'Donald', 'OConnell', 'DOCONNEL', '650.507.9833',\n",
       "        '21-JUN-07', 'SH_CLERK', '2600', ' - ', '124', '50'],\n",
       "       ['199', 'Douglas', 'Grant', 'DGRANT', '650.507.9844', '13-JAN-08',\n",
       "        'SH_CLERK', '2600', ' - ', '124', '50'],\n",
       "       ['200', 'Jennifer', 'Whalen', 'JWHALEN', '515.123.4444',\n",
       "        '17-SEP-03', 'AD_ASST', '4400', ' - ', '101', '10'],\n",
       "       ['201', 'Michael', 'Hartstein', 'MHARTSTE', '515.123.5555',\n",
       "        '17-FEB-04', 'MK_MAN', '13000', ' - ', '100', '20'],\n",
       "       ['202', 'Pat', 'Fay', 'PFAY', '603.123.6666', '17-AUG-05',\n",
       "        'MK_REP', '6000', ' - ', '201', '20'],\n",
       "       ['203', 'Susan', 'Mavris', 'SMAVRIS', '515.123.7777', '07-JUN-02',\n",
       "        'HR_REP', '6500', ' - ', '101', '40'],\n",
       "       ['204', 'Hermann', 'Baer', 'HBAER', '515.123.8888', '07-JUN-02',\n",
       "        'PR_REP', '10000', ' - ', '101', '70'],\n",
       "       ['205', 'Shelley', 'Higgins', 'SHIGGINS', '515.123.8080',\n",
       "        '07-JUN-02', 'AC_MGR', '12008', ' - ', '101', '110'],\n",
       "       ['206', 'William', 'Gietz', 'WGIETZ', '515.123.8181', '07-JUN-02',\n",
       "        'AC_ACCOUNT', '8300', ' - ', '205', '110'],\n",
       "       ['100', 'Steven', 'King', 'SKING', '515.123.4567', '17-JUN-03',\n",
       "        'AD_PRES', '24000', ' - ', ' - ', '90'],\n",
       "       ['101', 'Neena', 'Kochhar', 'NKOCHHAR', '515.123.4568',\n",
       "        '21-SEP-05', 'AD_VP', '17000', ' - ', '100', '90'],\n",
       "       ['102', 'Lex', 'De Haan', 'LDEHAAN', '515.123.4569', '13-JAN-01',\n",
       "        'AD_VP', '17000', ' - ', '100', '90'],\n",
       "       ['103', 'Alexander', 'Hunold', 'AHUNOLD', '590.423.4567',\n",
       "        '03-JAN-06', 'IT_PROG', '9000', ' - ', '102', '60'],\n",
       "       ['104', 'Bruce', 'Ernst', 'BERNST', '590.423.4568', '21-MAY-07',\n",
       "        'IT_PROG', '6000', ' - ', '103', '60'],\n",
       "       ['105', 'David', 'Austin', 'DAUSTIN', '590.423.4569', '25-JUN-05',\n",
       "        'IT_PROG', '4800', ' - ', '103', '60'],\n",
       "       ['106', 'Valli', 'Pataballa', 'VPATABAL', '590.423.4560',\n",
       "        '05-FEB-06', 'IT_PROG', '4800', ' - ', '103', '60'],\n",
       "       ['107', 'Diana', 'Lorentz', 'DLORENTZ', '590.423.5567',\n",
       "        '07-FEB-07', 'IT_PROG', '4200', ' - ', '103', '60'],\n",
       "       ['108', 'Nancy', 'Greenberg', 'NGREENBE', '515.124.4569',\n",
       "        '17-AUG-02', 'FI_MGR', '12008', ' - ', '101', '100'],\n",
       "       ['109', 'Daniel', 'Faviet', 'DFAVIET', '515.124.4169',\n",
       "        '16-AUG-02', 'FI_ACCOUNT', '9000', ' - ', '108', '100'],\n",
       "       ['110', 'John', 'Chen', 'JCHEN', '515.124.4269', '28-SEP-05',\n",
       "        'FI_ACCOUNT', '8200', ' - ', '108', '100'],\n",
       "       ['111', 'Ismael', 'Sciarra', 'ISCIARRA', '515.124.4369',\n",
       "        '30-SEP-05', 'FI_ACCOUNT', '7700', ' - ', '108', '100'],\n",
       "       ['112', 'Jose Manuel', 'Urman', 'JMURMAN', '515.124.4469',\n",
       "        '07-MAR-06', 'FI_ACCOUNT', '7800', ' - ', '108', '100'],\n",
       "       ['113', 'Luis', 'Popp', 'LPOPP', '515.124.4567', '07-DEC-07',\n",
       "        'FI_ACCOUNT', '6900', ' - ', '108', '100'],\n",
       "       ['114', 'Den', 'Raphaely', 'DRAPHEAL', '515.127.4561',\n",
       "        '07-DEC-02', 'PU_MAN', '11000', ' - ', '100', '30'],\n",
       "       ['115', 'Alexander', 'Khoo', 'AKHOO', '515.127.4562', '18-MAY-03',\n",
       "        'PU_CLERK', '3100', ' - ', '114', '30'],\n",
       "       ['116', 'Shelli', 'Baida', 'SBAIDA', '515.127.4563', '24-DEC-05',\n",
       "        'PU_CLERK', '2900', ' - ', '114', '30'],\n",
       "       ['117', 'Sigal', 'Tobias', 'STOBIAS', '515.127.4564', '24-JUL-05',\n",
       "        'PU_CLERK', '2800', ' - ', '114', '30'],\n",
       "       ['118', 'Guy', 'Himuro', 'GHIMURO', '515.127.4565', '15-NOV-06',\n",
       "        'PU_CLERK', '2600', ' - ', '114', '30'],\n",
       "       ['119', 'Karen', 'Colmenares', 'KCOLMENA', '515.127.4566',\n",
       "        '10-AUG-07', 'PU_CLERK', '2500', ' - ', '114', '30'],\n",
       "       ['120', 'Matthew', 'Weiss', 'MWEISS', '650.123.1234', '18-JUL-04',\n",
       "        'ST_MAN', '8000', ' - ', '100', '50'],\n",
       "       ['121', 'Adam', 'Fripp', 'AFRIPP', '650.123.2234', '10-APR-05',\n",
       "        'ST_MAN', '8200', ' - ', '100', '50'],\n",
       "       ['122', 'Payam', 'Kaufling', 'PKAUFLIN', '650.123.3234',\n",
       "        '01-MAY-03', 'ST_MAN', '7900', ' - ', '100', '50'],\n",
       "       ['123', 'Shanta', 'Vollman', 'SVOLLMAN', '650.123.4234',\n",
       "        '10-OCT-05', 'ST_MAN', '6500', ' - ', '100', '50'],\n",
       "       ['124', 'Kevin', 'Mourgos', 'KMOURGOS', '650.123.5234',\n",
       "        '16-NOV-07', 'ST_MAN', '5800', ' - ', '100', '50'],\n",
       "       ['125', 'Julia', 'Nayer', 'JNAYER', '650.124.1214', '16-JUL-05',\n",
       "        'ST_CLERK', '3200', ' - ', '120', '50'],\n",
       "       ['126', 'Irene', 'Mikkilineni', 'IMIKKILI', '650.124.1224',\n",
       "        '28-SEP-06', 'ST_CLERK', '2700', ' - ', '120', '50'],\n",
       "       ['127', 'James', 'Landry', 'JLANDRY', '650.124.1334', '14-JAN-07',\n",
       "        'ST_CLERK', '2400', ' - ', '120', '50'],\n",
       "       ['128', 'Steven', 'Markle', 'SMARKLE', '650.124.1434',\n",
       "        '08-MAR-08', 'ST_CLERK', '2200', ' - ', '120', '50'],\n",
       "       ['129', 'Laura', 'Bissot', 'LBISSOT', '650.124.5234', '20-AUG-05',\n",
       "        'ST_CLERK', '3300', ' - ', '121', '50'],\n",
       "       ['130', 'Mozhe', 'Atkinson', 'MATKINSO', '650.124.6234',\n",
       "        '30-OCT-05', 'ST_CLERK', '2800', ' - ', '121', '50'],\n",
       "       ['131', 'James', 'Marlow', 'JAMRLOW', '650.124.7234', '16-FEB-05',\n",
       "        'ST_CLERK', '2500', ' - ', '121', '50'],\n",
       "       ['132', 'TJ', 'Olson', 'TJOLSON', '650.124.8234', '10-APR-07',\n",
       "        'ST_CLERK', '2100', ' - ', '121', '50'],\n",
       "       ['133', 'Jason', 'Mallin', 'JMALLIN', '650.127.1934', '14-JUN-04',\n",
       "        'ST_CLERK', '3300', ' - ', '122', '50'],\n",
       "       ['134', 'Michael', 'Rogers', 'MROGERS', '650.127.1834',\n",
       "        '26-AUG-06', 'ST_CLERK', '2900', ' - ', '122', '50'],\n",
       "       ['135', 'Ki', 'Gee', 'KGEE', '650.127.1734', '12-DEC-07',\n",
       "        'ST_CLERK', '2400', ' - ', '122', '50'],\n",
       "       ['136', 'Hazel', 'Philtanker', 'HPHILTAN', '650.127.1634',\n",
       "        '06-FEB-08', 'ST_CLERK', '2200', ' - ', '122', '50'],\n",
       "       ['137', 'Renske', 'Ladwig', 'RLADWIG', '650.121.1234',\n",
       "        '14-JUL-03', 'ST_CLERK', '3600', ' - ', '123', '50'],\n",
       "       ['138', 'Stephen', 'Stiles', 'SSTILES', '650.121.2034',\n",
       "        '26-OCT-05', 'ST_CLERK', '3200', ' - ', '123', '50'],\n",
       "       ['139', 'John', 'Seo', 'JSEO', '650.121.2019', '12-FEB-06',\n",
       "        'ST_CLERK', '2700', ' - ', '123', '50'],\n",
       "       ['140', 'Joshua', 'Patel', 'JPATEL', '650.121.1834', '06-APR-06',\n",
       "        'ST_CLERK', '2500', ' - ', '123', '50']], dtype='<U32')"
      ]
     },
     "execution_count": 197,
     "metadata": {},
     "output_type": "execute_result"
    }
   ],
   "source": [
    "matrix"
   ]
  },
  {
   "cell_type": "code",
   "execution_count": 199,
   "id": "dfa0b190-50c9-47e5-b09b-72e478988f41",
   "metadata": {},
   "outputs": [
    {
     "name": "stdout",
     "output_type": "stream",
     "text": [
      "['2600' '2600' '4400' '13000' '6000' '6500' '10000' '12008' '8300' '24000'\n",
      " '17000' '17000' '9000' '6000' '4800' '4800' '4200' '12008' '9000' '8200'\n",
      " '7700' '7800' '6900' '11000' '3100' '2900' '2800' '2600' '2500' '8000'\n",
      " '8200' '7900' '6500' '5800' '3200' '2700' '2400' '2200' '3300' '2800'\n",
      " '2500' '2100' '3300' '2900' '2400' '2200' '3600' '3200' '2700' '2500']\n"
     ]
    }
   ],
   "source": [
    "sal=matrix[1:,7]\n",
    "print(sal)"
   ]
  },
  {
   "cell_type": "code",
   "execution_count": 203,
   "id": "62511213-fceb-47cd-a60d-bef035ef76b7",
   "metadata": {},
   "outputs": [
    {
     "name": "stdout",
     "output_type": "stream",
     "text": [
      "[ 2600  2600  4400 13000  6000  6500 10000 12008  8300 24000 17000 17000\n",
      "  9000  6000  4800  4800  4200 12008  9000  8200  7700  7800  6900 11000\n",
      "  3100  2900  2800  2600  2500  8000  8200  7900  6500  5800  3200  2700\n",
      "  2400  2200  3300  2800  2500  2100  3300  2900  2400  2200  3600  3200\n",
      "  2700  2500]\n"
     ]
    }
   ],
   "source": [
    "sal_2=sal.astype(int)\n",
    "print(sal_2)"
   ]
  },
  {
   "cell_type": "code",
   "execution_count": 131,
   "id": "948ddd3a-df01-40bf-a91f-72da49d27593",
   "metadata": {},
   "outputs": [
    {
     "name": "stdout",
     "output_type": "stream",
     "text": [
      "la suma salarial es : 309116\n",
      "el promedio salarial  es : 6182.32\n",
      "el maximo salarial pagado es: 24000\n",
      "el minimo salarial pagado es: 2100\n",
      "la distribucion estandar salarial pagada es: 4540.0883226651\n"
     ]
    }
   ],
   "source": [
    "print('la suma salarial es :' , np.sum(sal_2))\n",
    "print('el promedio salarial  es :' , np.mean(sal_2))\n",
    "print('el maximo salarial pagado es:', np.max(sal_2))\n",
    "print('el minimo salarial pagado es:', np.min(sal_2))\n",
    "print('la distribucion estandar salarial pagada es:', np.std(sal_2))"
   ]
  },
  {
   "cell_type": "code",
   "execution_count": 228,
   "id": "936a4bec-d6c6-4d3c-afa0-d6440c417dfe",
   "metadata": {
    "scrolled": true
   },
   "outputs": [
    {
     "name": "stdout",
     "output_type": "stream",
     "text": [
      "['50' '50' '10' '20' '20' '40' '70' '110' '110' '90' '90' '90' '60' '60'\n",
      " '60' '60' '60' '100' '100' '100' '100' '100' '100' '30' '30' '30' '30'\n",
      " '30' '30' '50' '50' '50' '50' '50' '50' '50' '50' '50' '50' '50' '50'\n",
      " '50' '50' '50' '50' '50' '50' '50' '50' '50']\n",
      "departamento:  10\n",
      "total nomina:  4400\n",
      "promedio nomina:  4400.0\n",
      "--------------------------------------------------\n",
      "departamento:  100\n",
      "total nomina:  51608\n",
      "promedio nomina:  8601.333333333334\n",
      "--------------------------------------------------\n",
      "departamento:  110\n",
      "total nomina:  20308\n",
      "promedio nomina:  10154.0\n",
      "--------------------------------------------------\n",
      "departamento:  20\n",
      "total nomina:  19000\n",
      "promedio nomina:  9500.0\n",
      "--------------------------------------------------\n",
      "departamento:  30\n",
      "total nomina:  24900\n",
      "promedio nomina:  4150.0\n",
      "--------------------------------------------------\n",
      "departamento:  40\n",
      "total nomina:  6500\n",
      "promedio nomina:  6500.0\n",
      "--------------------------------------------------\n",
      "departamento:  50\n",
      "total nomina:  85600\n",
      "promedio nomina:  3721.7391304347825\n",
      "--------------------------------------------------\n",
      "departamento:  60\n",
      "total nomina:  28800\n",
      "promedio nomina:  5760.0\n",
      "--------------------------------------------------\n",
      "departamento:  70\n",
      "total nomina:  10000\n",
      "promedio nomina:  10000.0\n",
      "--------------------------------------------------\n",
      "departamento:  90\n",
      "total nomina:  58000\n",
      "promedio nomina:  19333.333333333332\n",
      "--------------------------------------------------\n"
     ]
    }
   ],
   "source": [
    "resultado={}\n",
    "dep=matrix[1:,-1]\n",
    "print(dep)\n",
    "for i in np.unique(dep):\n",
    "    nom=sal_2[dep==i]\n",
    "    suma_nom=np.sum(nom)\n",
    "    pro_nom=np.mean(nom)\n",
    "    resultado[i]={\"Total nomina\": suma_nom,\"Promedio nomina\":pro_nom}\n",
    "\n",
    "for d ,v in resultado.items():\n",
    "    print('departamento: ' ,d)\n",
    "    print('total nomina: ' ,v[\"Total nomina\"])\n",
    "    print('promedio nomina: ' ,v[\"Promedio nomina\"])\n",
    "    print('-'*50)"
   ]
  },
  {
   "cell_type": "code",
   "execution_count": 234,
   "id": "fc2a65e0-0019-4824-b7be-4687bac495d4",
   "metadata": {},
   "outputs": [
    {
     "name": "stdout",
     "output_type": "stream",
     "text": [
      "['124' '124' '101' '100' '201' '101' '101' '101' '205' ' - ' '100' '100'\n",
      " '102' '103' '103' '103' '103' '101' '108' '108' '108' '108' '108' '100'\n",
      " '114' '114' '114' '114' '114' '100' '100' '100' '100' '100' '120' '120'\n",
      " '120' '120' '121' '121' '121' '121' '122' '122' '122' '122' '123' '123'\n",
      " '123' '123']\n"
     ]
    }
   ],
   "source": [
    "mana=matrix[1:,-2]\n",
    "print(mana)"
   ]
  },
  {
   "cell_type": "code",
   "execution_count": null,
   "id": "c8e7f086-a22e-4601-b4c3-22a86386cad2",
   "metadata": {},
   "outputs": [],
   "source": []
  }
 ],
 "metadata": {
  "kernelspec": {
   "display_name": "Python [conda env:base] *",
   "language": "python",
   "name": "conda-base-py"
  },
  "language_info": {
   "codemirror_mode": {
    "name": "ipython",
    "version": 3
   },
   "file_extension": ".py",
   "mimetype": "text/x-python",
   "name": "python",
   "nbconvert_exporter": "python",
   "pygments_lexer": "ipython3",
   "version": "3.12.7"
  }
 },
 "nbformat": 4,
 "nbformat_minor": 5
}
